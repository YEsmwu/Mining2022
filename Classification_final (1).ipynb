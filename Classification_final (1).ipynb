{
  "nbformat": 4,
  "nbformat_minor": 0,
  "metadata": {
    "colab": {
      "provenance": []
    },
    "kernelspec": {
      "name": "python3",
      "display_name": "Python 3"
    },
    "language_info": {
      "name": "python"
    }
  },
  "cells": [
    {
      "cell_type": "code",
      "source": [
        "import matplotlib.font_manager as fm\n",
        "\n",
        "!apt-get update -qq\n",
        "!apt-get install fonts-nanum* -qq             \n",
        "\n",
        "sys_font=fm.findSystemFonts()\n",
        "print(f\"sys_font number: {len(sys_font)}\")\n",
        "print(sys_font)                           \n",
        "\n",
        "nanum_font = [f for f in sys_font if 'Nanum' in f]\n",
        "print(f\"nanum_font number: {len(nanum_font)}\") \n",
        "#nanum_font"
      ],
      "metadata": {
        "colab": {
          "base_uri": "https://localhost:8080/"
        },
        "id": "8FrppFAVz2H0",
        "outputId": "31e4a770-cbe1-4869-d076-9290294000fe"
      },
      "execution_count": null,
      "outputs": [
        {
          "output_type": "stream",
          "name": "stdout",
          "text": [
            "sys_font number: 48\n",
            "['/usr/share/fonts/truetype/nanum/NanumPen.ttf', '/usr/share/fonts/truetype/nanum/NanumBrush.ttf', '/usr/share/fonts/truetype/nanum/NanumSquareR.ttf', '/usr/share/fonts/truetype/liberation/LiberationMono-Bold.ttf', '/usr/share/fonts/truetype/nanum/NanumSquareRoundL.ttf', '/usr/share/fonts/truetype/nanum/NanumGothic.ttf', '/usr/share/fonts/truetype/humor-sans/Humor-Sans.ttf', '/usr/share/fonts/truetype/liberation/LiberationSerif-Bold.ttf', '/usr/share/fonts/truetype/nanum/NanumGothicLight.ttf', '/usr/share/fonts/truetype/nanum/NanumSquareL.ttf', '/usr/share/fonts/truetype/nanum/NanumGothicCoding-Bold.ttf', '/usr/share/fonts/truetype/nanum/NanumSquareEB.ttf', '/usr/share/fonts/truetype/liberation/LiberationMono-BoldItalic.ttf', '/usr/share/fonts/truetype/nanum/NanumGothicEco.ttf', '/usr/share/fonts/truetype/nanum/NanumGothicCoding.ttf', '/usr/share/fonts/truetype/nanum/NanumBarunGothicLight.ttf', '/usr/share/fonts/truetype/nanum/NanumMyeongjo.ttf', '/usr/share/fonts/truetype/liberation/LiberationSans-Italic.ttf', '/usr/share/fonts/truetype/nanum/NanumMyeongjoBold.ttf', '/usr/share/fonts/truetype/nanum/NanumMyeongjoEcoExtraBold.ttf', '/usr/share/fonts/truetype/nanum/NanumMyeongjoEcoBold.ttf', '/usr/share/fonts/truetype/nanum/NanumBarunpenB.ttf', '/usr/share/fonts/truetype/liberation/LiberationSansNarrow-Regular.ttf', '/usr/share/fonts/truetype/nanum/NanumMyeongjoEco.ttf', '/usr/share/fonts/truetype/nanum/NanumGothicEcoBold.ttf', '/usr/share/fonts/truetype/liberation/LiberationSansNarrow-BoldItalic.ttf', '/usr/share/fonts/truetype/nanum/NanumGothicEcoExtraBold.ttf', '/usr/share/fonts/truetype/nanum/NanumBarunGothicUltraLight.ttf', '/usr/share/fonts/truetype/liberation/LiberationSerif-BoldItalic.ttf', '/usr/share/fonts/truetype/nanum/NanumBarunGothicBold.ttf', '/usr/share/fonts/truetype/nanum/NanumGothicExtraBold.ttf', '/usr/share/fonts/truetype/nanum/NanumBarunGothic.ttf', '/usr/share/fonts/truetype/nanum/NanumBarunpenR.ttf', '/usr/share/fonts/truetype/liberation/LiberationSansNarrow-Bold.ttf', '/usr/share/fonts/truetype/nanum/NanumSquareRoundEB.ttf', '/usr/share/fonts/truetype/nanum/NanumSquareRoundR.ttf', '/usr/share/fonts/truetype/liberation/LiberationMono-Italic.ttf', '/usr/share/fonts/truetype/liberation/LiberationSansNarrow-Italic.ttf', '/usr/share/fonts/truetype/liberation/LiberationSerif-Italic.ttf', '/usr/share/fonts/truetype/liberation/LiberationSans-Regular.ttf', '/usr/share/fonts/truetype/nanum/NanumMyeongjoExtraBold.ttf', '/usr/share/fonts/truetype/liberation/LiberationSerif-Regular.ttf', '/usr/share/fonts/truetype/liberation/LiberationSans-Bold.ttf', '/usr/share/fonts/truetype/nanum/NanumSquareB.ttf', '/usr/share/fonts/truetype/nanum/NanumSquareRoundB.ttf', '/usr/share/fonts/truetype/liberation/LiberationMono-Regular.ttf', '/usr/share/fonts/truetype/nanum/NanumGothicBold.ttf', '/usr/share/fonts/truetype/liberation/LiberationSans-BoldItalic.ttf']\n",
            "nanum_font number: 31\n"
          ]
        }
      ]
    },
    {
      "cell_type": "code",
      "source": [
        "%matplotlib inline\n",
        "import matplotlib as mpl               \n",
        "import matplotlib.pyplot as plt        \n",
        "import matplotlib.font_manager as fm  \n",
        "\n",
        "mpl.rcParams['axes.unicode_minus'] = False  \n",
        "\n",
        "path = '/usr/share/fonts/truetype/nanum/NanumMyeongjo.ttf'\n",
        "font_name = fm.FontProperties(fname=path, size=10).get_name()\n",
        "print(font_name)\n",
        "plt.rc('font', family=font_name)\n",
        "\n",
        "fm._rebuild()  # 폰트 적용"
      ],
      "metadata": {
        "colab": {
          "base_uri": "https://localhost:8080/"
        },
        "id": "xAsi_LBmz91t",
        "outputId": "d108704a-9fe7-470e-b5b8-08f2c7dc377b"
      },
      "execution_count": null,
      "outputs": [
        {
          "output_type": "stream",
          "name": "stdout",
          "text": [
            "NanumMyeongjo\n"
          ]
        }
      ]
    },
    {
      "cell_type": "code",
      "execution_count": null,
      "metadata": {
        "colab": {
          "base_uri": "https://localhost:8080/"
        },
        "id": "wmScnsIE7Bu1",
        "outputId": "a94e0c3c-7513-4d74-de49-0d79b8f285bf"
      },
      "outputs": [
        {
          "output_type": "stream",
          "name": "stdout",
          "text": [
            "Looking in indexes: https://pypi.org/simple, https://us-python.pkg.dev/colab-wheels/public/simple/\n",
            "Requirement already satisfied: mglearn in /usr/local/lib/python3.7/dist-packages (0.1.9)\n",
            "Requirement already satisfied: joblib in /usr/local/lib/python3.7/dist-packages (from mglearn) (1.1.0)\n",
            "Requirement already satisfied: matplotlib in /usr/local/lib/python3.7/dist-packages (from mglearn) (3.2.2)\n",
            "Requirement already satisfied: scikit-learn in /usr/local/lib/python3.7/dist-packages (from mglearn) (1.0.2)\n",
            "Requirement already satisfied: cycler in /usr/local/lib/python3.7/dist-packages (from mglearn) (0.11.0)\n",
            "Requirement already satisfied: pillow in /usr/local/lib/python3.7/dist-packages (from mglearn) (7.1.2)\n",
            "Requirement already satisfied: pandas in /usr/local/lib/python3.7/dist-packages (from mglearn) (1.3.5)\n",
            "Requirement already satisfied: numpy in /usr/local/lib/python3.7/dist-packages (from mglearn) (1.21.6)\n",
            "Requirement already satisfied: imageio in /usr/local/lib/python3.7/dist-packages (from mglearn) (2.9.0)\n",
            "Requirement already satisfied: kiwisolver>=1.0.1 in /usr/local/lib/python3.7/dist-packages (from matplotlib->mglearn) (1.4.4)\n",
            "Requirement already satisfied: pyparsing!=2.0.4,!=2.1.2,!=2.1.6,>=2.0.1 in /usr/local/lib/python3.7/dist-packages (from matplotlib->mglearn) (3.0.9)\n",
            "Requirement already satisfied: python-dateutil>=2.1 in /usr/local/lib/python3.7/dist-packages (from matplotlib->mglearn) (2.8.2)\n",
            "Requirement already satisfied: typing-extensions in /usr/local/lib/python3.7/dist-packages (from kiwisolver>=1.0.1->matplotlib->mglearn) (4.1.1)\n",
            "Requirement already satisfied: six>=1.5 in /usr/local/lib/python3.7/dist-packages (from python-dateutil>=2.1->matplotlib->mglearn) (1.15.0)\n",
            "Requirement already satisfied: pytz>=2017.3 in /usr/local/lib/python3.7/dist-packages (from pandas->mglearn) (2022.6)\n",
            "Requirement already satisfied: threadpoolctl>=2.0.0 in /usr/local/lib/python3.7/dist-packages (from scikit-learn->mglearn) (3.1.0)\n",
            "Requirement already satisfied: scipy>=1.1.0 in /usr/local/lib/python3.7/dist-packages (from scikit-learn->mglearn) (1.7.3)\n"
          ]
        }
      ],
      "source": [
        "!pip install mglearn"
      ]
    },
    {
      "cell_type": "code",
      "source": [
        "!pip install --upgrade joblib==1.1.0"
      ],
      "metadata": {
        "colab": {
          "base_uri": "https://localhost:8080/"
        },
        "id": "bqLz0S8P7O2q",
        "outputId": "83f34eb6-1ba8-4ea9-bddb-05341848dc16"
      },
      "execution_count": null,
      "outputs": [
        {
          "output_type": "stream",
          "name": "stdout",
          "text": [
            "Looking in indexes: https://pypi.org/simple, https://us-python.pkg.dev/colab-wheels/public/simple/\n",
            "Requirement already satisfied: joblib==1.1.0 in /usr/local/lib/python3.7/dist-packages (1.1.0)\n"
          ]
        }
      ]
    },
    {
      "cell_type": "code",
      "source": [
        "import mglearn"
      ],
      "metadata": {
        "id": "HDVt456H7YaP"
      },
      "execution_count": null,
      "outputs": []
    },
    {
      "cell_type": "markdown",
      "source": [
        "**Google 파일에서 health data 가지고 오기**"
      ],
      "metadata": {
        "id": "rH0W7yRN7f__"
      }
    },
    {
      "cell_type": "code",
      "source": [
        "from google.colab import drive\n",
        "drive.mount('/content/drive')"
      ],
      "metadata": {
        "colab": {
          "base_uri": "https://localhost:8080/"
        },
        "id": "ZrdUiqdR7e-f",
        "outputId": "bd31f772-cebc-4006-b643-cde8601b3718"
      },
      "execution_count": null,
      "outputs": [
        {
          "output_type": "stream",
          "name": "stdout",
          "text": [
            "Drive already mounted at /content/drive; to attempt to forcibly remount, call drive.mount(\"/content/drive\", force_remount=True).\n"
          ]
        }
      ]
    },
    {
      "cell_type": "code",
      "source": [
        "%matplotlib inline\n",
        "import pandas as pd\n",
        "import seaborn as sns          \n",
        "import matplotlib.pyplot as plt \n",
        "import numpy as np\n"
      ],
      "metadata": {
        "id": "9u_MyflQ7zfj"
      },
      "execution_count": null,
      "outputs": []
    },
    {
      "cell_type": "code",
      "source": [
        "health = pd.read_csv(\"/content/drive/My Drive/Colab Notebooks/ITB/health_data.csv\", index_col='Number')\n",
        "\n",
        "print(health.columns)\n",
        "display(health.info())\n",
        "display(health.head())"
      ],
      "metadata": {
        "colab": {
          "base_uri": "https://localhost:8080/",
          "height": 1000
        },
        "id": "KoKsFNvnD45c",
        "outputId": "96311e74-e104-4fe6-c044-697e911cc620"
      },
      "execution_count": null,
      "outputs": [
        {
          "output_type": "stream",
          "name": "stdout",
          "text": [
            "Index(['Year', 'Zip Code', 'Sex', 'Age(unit.5)', 'Height(5Cm)', 'Weight(5Kg)',\n",
            "       'Wasit', 'Eyesight(left)', 'Eyesight(right)', 'Hearing(left)',\n",
            "       'Hearing(right)', '수축기혈압', '이완기혈압', '식전혈당(공복혈당)', 'Cholesterol(total)',\n",
            "       '트리글리세라이드', 'HDL콜레스테롤', 'LDL콜레스테롤', '혈색소', '요단백', '혈청크레아티닌',\n",
            "       '(혈청지오티)AST', '(혈청지오티)ALT', '감마지티피', 'Smoke', 'Drink', '구강검진수검여부',\n",
            "       '치아우식증유무', '치석'],\n",
            "      dtype='object')\n",
            "<class 'pandas.core.frame.DataFrame'>\n",
            "Int64Index: 10000 entries, 1 to 10000\n",
            "Data columns (total 29 columns):\n",
            " #   Column              Non-Null Count  Dtype  \n",
            "---  ------              --------------  -----  \n",
            " 0   Year                10000 non-null  int64  \n",
            " 1   Zip Code            10000 non-null  int64  \n",
            " 2   Sex                 10000 non-null  object \n",
            " 3   Age(unit.5)         10000 non-null  int64  \n",
            " 4   Height(5Cm)         10000 non-null  int64  \n",
            " 5   Weight(5Kg)         10000 non-null  int64  \n",
            " 6   Wasit               10000 non-null  float64\n",
            " 7   Eyesight(left)      10000 non-null  float64\n",
            " 8   Eyesight(right)     10000 non-null  float64\n",
            " 9   Hearing(left)       10000 non-null  int64  \n",
            " 10  Hearing(right)      10000 non-null  int64  \n",
            " 11  수축기혈압               9912 non-null   float64\n",
            " 12  이완기혈압               9912 non-null   float64\n",
            " 13  식전혈당(공복혈당)          9912 non-null   float64\n",
            " 14  Cholesterol(total)  4044 non-null   float64\n",
            " 15  트리글리세라이드            4044 non-null   float64\n",
            " 16  HDL콜레스테롤            4044 non-null   float64\n",
            " 17  LDL콜레스테롤            3977 non-null   float64\n",
            " 18  혈색소                 9912 non-null   float64\n",
            " 19  요단백                 9861 non-null   float64\n",
            " 20  혈청크레아티닌             9912 non-null   float64\n",
            " 21  (혈청지오티)AST          9912 non-null   float64\n",
            " 22  (혈청지오티)ALT          9912 non-null   float64\n",
            " 23  감마지티피               9912 non-null   float64\n",
            " 24  Smoke               9998 non-null   object \n",
            " 25  Drink               9999 non-null   object \n",
            " 26  구강검진수검여부            10000 non-null  int64  \n",
            " 27  치아우식증유무             3251 non-null   float64\n",
            " 28  치석                  3251 non-null   float64\n",
            "dtypes: float64(18), int64(8), object(3)\n",
            "memory usage: 2.3+ MB\n"
          ]
        },
        {
          "output_type": "display_data",
          "data": {
            "text/plain": [
              "None"
            ]
          },
          "metadata": {}
        },
        {
          "output_type": "display_data",
          "data": {
            "text/plain": [
              "        Year  Zip Code Sex  Age(unit.5)  Height(5Cm)  Weight(5Kg)  Wasit  \\\n",
              "Number                                                                     \n",
              "1       2020        36   M            9          165           60   72.1   \n",
              "2       2020        27   F           13          150           65   81.0   \n",
              "3       2020        11   F           12          155           55   70.0   \n",
              "4       2020        31   M           13          160           70   90.8   \n",
              "5       2020        41   F           12          155           50   75.2   \n",
              "\n",
              "        Eyesight(left)  Eyesight(right)  Hearing(left)  ...  요단백  혈청크레아티닌  \\\n",
              "Number                                                  ...                 \n",
              "1                  1.2              1.5              1  ...  1.0      1.1   \n",
              "2                  0.8              0.8              1  ...  1.0      0.5   \n",
              "3                  0.6              0.7              1  ...  1.0      0.7   \n",
              "4                  1.0              1.0              1  ...  1.0      1.2   \n",
              "5                  1.5              1.2              1  ...  1.0      0.7   \n",
              "\n",
              "        (혈청지오티)AST  (혈청지오티)ALT  감마지티피  Smoke  Drink  구강검진수검여부  치아우식증유무   치석  \n",
              "Number                                                                       \n",
              "1             21.0        27.0   21.0     No     No         0      NaN  NaN  \n",
              "2             18.0        15.0   15.0     No     No         0      NaN  NaN  \n",
              "3             27.0        25.0    7.0     No     No         0      NaN  NaN  \n",
              "4             65.0        97.0   72.0     No     No         1      0.0  0.0  \n",
              "5             18.0        17.0   14.0     No     No         0      NaN  NaN  \n",
              "\n",
              "[5 rows x 29 columns]"
            ],
            "text/html": [
              "\n",
              "  <div id=\"df-415f6e8a-9345-4e1d-a5fa-dfac8b0eaa57\">\n",
              "    <div class=\"colab-df-container\">\n",
              "      <div>\n",
              "<style scoped>\n",
              "    .dataframe tbody tr th:only-of-type {\n",
              "        vertical-align: middle;\n",
              "    }\n",
              "\n",
              "    .dataframe tbody tr th {\n",
              "        vertical-align: top;\n",
              "    }\n",
              "\n",
              "    .dataframe thead th {\n",
              "        text-align: right;\n",
              "    }\n",
              "</style>\n",
              "<table border=\"1\" class=\"dataframe\">\n",
              "  <thead>\n",
              "    <tr style=\"text-align: right;\">\n",
              "      <th></th>\n",
              "      <th>Year</th>\n",
              "      <th>Zip Code</th>\n",
              "      <th>Sex</th>\n",
              "      <th>Age(unit.5)</th>\n",
              "      <th>Height(5Cm)</th>\n",
              "      <th>Weight(5Kg)</th>\n",
              "      <th>Wasit</th>\n",
              "      <th>Eyesight(left)</th>\n",
              "      <th>Eyesight(right)</th>\n",
              "      <th>Hearing(left)</th>\n",
              "      <th>...</th>\n",
              "      <th>요단백</th>\n",
              "      <th>혈청크레아티닌</th>\n",
              "      <th>(혈청지오티)AST</th>\n",
              "      <th>(혈청지오티)ALT</th>\n",
              "      <th>감마지티피</th>\n",
              "      <th>Smoke</th>\n",
              "      <th>Drink</th>\n",
              "      <th>구강검진수검여부</th>\n",
              "      <th>치아우식증유무</th>\n",
              "      <th>치석</th>\n",
              "    </tr>\n",
              "    <tr>\n",
              "      <th>Number</th>\n",
              "      <th></th>\n",
              "      <th></th>\n",
              "      <th></th>\n",
              "      <th></th>\n",
              "      <th></th>\n",
              "      <th></th>\n",
              "      <th></th>\n",
              "      <th></th>\n",
              "      <th></th>\n",
              "      <th></th>\n",
              "      <th></th>\n",
              "      <th></th>\n",
              "      <th></th>\n",
              "      <th></th>\n",
              "      <th></th>\n",
              "      <th></th>\n",
              "      <th></th>\n",
              "      <th></th>\n",
              "      <th></th>\n",
              "      <th></th>\n",
              "      <th></th>\n",
              "    </tr>\n",
              "  </thead>\n",
              "  <tbody>\n",
              "    <tr>\n",
              "      <th>1</th>\n",
              "      <td>2020</td>\n",
              "      <td>36</td>\n",
              "      <td>M</td>\n",
              "      <td>9</td>\n",
              "      <td>165</td>\n",
              "      <td>60</td>\n",
              "      <td>72.1</td>\n",
              "      <td>1.2</td>\n",
              "      <td>1.5</td>\n",
              "      <td>1</td>\n",
              "      <td>...</td>\n",
              "      <td>1.0</td>\n",
              "      <td>1.1</td>\n",
              "      <td>21.0</td>\n",
              "      <td>27.0</td>\n",
              "      <td>21.0</td>\n",
              "      <td>No</td>\n",
              "      <td>No</td>\n",
              "      <td>0</td>\n",
              "      <td>NaN</td>\n",
              "      <td>NaN</td>\n",
              "    </tr>\n",
              "    <tr>\n",
              "      <th>2</th>\n",
              "      <td>2020</td>\n",
              "      <td>27</td>\n",
              "      <td>F</td>\n",
              "      <td>13</td>\n",
              "      <td>150</td>\n",
              "      <td>65</td>\n",
              "      <td>81.0</td>\n",
              "      <td>0.8</td>\n",
              "      <td>0.8</td>\n",
              "      <td>1</td>\n",
              "      <td>...</td>\n",
              "      <td>1.0</td>\n",
              "      <td>0.5</td>\n",
              "      <td>18.0</td>\n",
              "      <td>15.0</td>\n",
              "      <td>15.0</td>\n",
              "      <td>No</td>\n",
              "      <td>No</td>\n",
              "      <td>0</td>\n",
              "      <td>NaN</td>\n",
              "      <td>NaN</td>\n",
              "    </tr>\n",
              "    <tr>\n",
              "      <th>3</th>\n",
              "      <td>2020</td>\n",
              "      <td>11</td>\n",
              "      <td>F</td>\n",
              "      <td>12</td>\n",
              "      <td>155</td>\n",
              "      <td>55</td>\n",
              "      <td>70.0</td>\n",
              "      <td>0.6</td>\n",
              "      <td>0.7</td>\n",
              "      <td>1</td>\n",
              "      <td>...</td>\n",
              "      <td>1.0</td>\n",
              "      <td>0.7</td>\n",
              "      <td>27.0</td>\n",
              "      <td>25.0</td>\n",
              "      <td>7.0</td>\n",
              "      <td>No</td>\n",
              "      <td>No</td>\n",
              "      <td>0</td>\n",
              "      <td>NaN</td>\n",
              "      <td>NaN</td>\n",
              "    </tr>\n",
              "    <tr>\n",
              "      <th>4</th>\n",
              "      <td>2020</td>\n",
              "      <td>31</td>\n",
              "      <td>M</td>\n",
              "      <td>13</td>\n",
              "      <td>160</td>\n",
              "      <td>70</td>\n",
              "      <td>90.8</td>\n",
              "      <td>1.0</td>\n",
              "      <td>1.0</td>\n",
              "      <td>1</td>\n",
              "      <td>...</td>\n",
              "      <td>1.0</td>\n",
              "      <td>1.2</td>\n",
              "      <td>65.0</td>\n",
              "      <td>97.0</td>\n",
              "      <td>72.0</td>\n",
              "      <td>No</td>\n",
              "      <td>No</td>\n",
              "      <td>1</td>\n",
              "      <td>0.0</td>\n",
              "      <td>0.0</td>\n",
              "    </tr>\n",
              "    <tr>\n",
              "      <th>5</th>\n",
              "      <td>2020</td>\n",
              "      <td>41</td>\n",
              "      <td>F</td>\n",
              "      <td>12</td>\n",
              "      <td>155</td>\n",
              "      <td>50</td>\n",
              "      <td>75.2</td>\n",
              "      <td>1.5</td>\n",
              "      <td>1.2</td>\n",
              "      <td>1</td>\n",
              "      <td>...</td>\n",
              "      <td>1.0</td>\n",
              "      <td>0.7</td>\n",
              "      <td>18.0</td>\n",
              "      <td>17.0</td>\n",
              "      <td>14.0</td>\n",
              "      <td>No</td>\n",
              "      <td>No</td>\n",
              "      <td>0</td>\n",
              "      <td>NaN</td>\n",
              "      <td>NaN</td>\n",
              "    </tr>\n",
              "  </tbody>\n",
              "</table>\n",
              "<p>5 rows × 29 columns</p>\n",
              "</div>\n",
              "      <button class=\"colab-df-convert\" onclick=\"convertToInteractive('df-415f6e8a-9345-4e1d-a5fa-dfac8b0eaa57')\"\n",
              "              title=\"Convert this dataframe to an interactive table.\"\n",
              "              style=\"display:none;\">\n",
              "        \n",
              "  <svg xmlns=\"http://www.w3.org/2000/svg\" height=\"24px\"viewBox=\"0 0 24 24\"\n",
              "       width=\"24px\">\n",
              "    <path d=\"M0 0h24v24H0V0z\" fill=\"none\"/>\n",
              "    <path d=\"M18.56 5.44l.94 2.06.94-2.06 2.06-.94-2.06-.94-.94-2.06-.94 2.06-2.06.94zm-11 1L8.5 8.5l.94-2.06 2.06-.94-2.06-.94L8.5 2.5l-.94 2.06-2.06.94zm10 10l.94 2.06.94-2.06 2.06-.94-2.06-.94-.94-2.06-.94 2.06-2.06.94z\"/><path d=\"M17.41 7.96l-1.37-1.37c-.4-.4-.92-.59-1.43-.59-.52 0-1.04.2-1.43.59L10.3 9.45l-7.72 7.72c-.78.78-.78 2.05 0 2.83L4 21.41c.39.39.9.59 1.41.59.51 0 1.02-.2 1.41-.59l7.78-7.78 2.81-2.81c.8-.78.8-2.07 0-2.86zM5.41 20L4 18.59l7.72-7.72 1.47 1.35L5.41 20z\"/>\n",
              "  </svg>\n",
              "      </button>\n",
              "      \n",
              "  <style>\n",
              "    .colab-df-container {\n",
              "      display:flex;\n",
              "      flex-wrap:wrap;\n",
              "      gap: 12px;\n",
              "    }\n",
              "\n",
              "    .colab-df-convert {\n",
              "      background-color: #E8F0FE;\n",
              "      border: none;\n",
              "      border-radius: 50%;\n",
              "      cursor: pointer;\n",
              "      display: none;\n",
              "      fill: #1967D2;\n",
              "      height: 32px;\n",
              "      padding: 0 0 0 0;\n",
              "      width: 32px;\n",
              "    }\n",
              "\n",
              "    .colab-df-convert:hover {\n",
              "      background-color: #E2EBFA;\n",
              "      box-shadow: 0px 1px 2px rgba(60, 64, 67, 0.3), 0px 1px 3px 1px rgba(60, 64, 67, 0.15);\n",
              "      fill: #174EA6;\n",
              "    }\n",
              "\n",
              "    [theme=dark] .colab-df-convert {\n",
              "      background-color: #3B4455;\n",
              "      fill: #D2E3FC;\n",
              "    }\n",
              "\n",
              "    [theme=dark] .colab-df-convert:hover {\n",
              "      background-color: #434B5C;\n",
              "      box-shadow: 0px 1px 3px 1px rgba(0, 0, 0, 0.15);\n",
              "      filter: drop-shadow(0px 1px 2px rgba(0, 0, 0, 0.3));\n",
              "      fill: #FFFFFF;\n",
              "    }\n",
              "  </style>\n",
              "\n",
              "      <script>\n",
              "        const buttonEl =\n",
              "          document.querySelector('#df-415f6e8a-9345-4e1d-a5fa-dfac8b0eaa57 button.colab-df-convert');\n",
              "        buttonEl.style.display =\n",
              "          google.colab.kernel.accessAllowed ? 'block' : 'none';\n",
              "\n",
              "        async function convertToInteractive(key) {\n",
              "          const element = document.querySelector('#df-415f6e8a-9345-4e1d-a5fa-dfac8b0eaa57');\n",
              "          const dataTable =\n",
              "            await google.colab.kernel.invokeFunction('convertToInteractive',\n",
              "                                                     [key], {});\n",
              "          if (!dataTable) return;\n",
              "\n",
              "          const docLinkHtml = 'Like what you see? Visit the ' +\n",
              "            '<a target=\"_blank\" href=https://colab.research.google.com/notebooks/data_table.ipynb>data table notebook</a>'\n",
              "            + ' to learn more about interactive tables.';\n",
              "          element.innerHTML = '';\n",
              "          dataTable['output_type'] = 'display_data';\n",
              "          await google.colab.output.renderOutput(dataTable, element);\n",
              "          const docLink = document.createElement('div');\n",
              "          docLink.innerHTML = docLinkHtml;\n",
              "          element.appendChild(docLink);\n",
              "        }\n",
              "      </script>\n",
              "    </div>\n",
              "  </div>\n",
              "  "
            ]
          },
          "metadata": {}
        }
      ]
    },
    {
      "cell_type": "code",
      "source": [
        "health = health.dropna (axis = 0)"
      ],
      "metadata": {
        "id": "cA8sNfrR0src"
      },
      "execution_count": null,
      "outputs": []
    },
    {
      "cell_type": "code",
      "source": [
        "health.describe()"
      ],
      "metadata": {
        "colab": {
          "base_uri": "https://localhost:8080/",
          "height": 445
        },
        "id": "YY7AE8-eFShH",
        "outputId": "b763099c-75e0-4e3a-e5ce-93c399b48d98"
      },
      "execution_count": null,
      "outputs": [
        {
          "output_type": "execute_result",
          "data": {
            "text/plain": [
              "         Year     Zip Code  Age(unit.5)  Height(5Cm)  Weight(5Kg)  \\\n",
              "count  1249.0  1249.000000  1249.000000  1249.000000  1249.000000   \n",
              "mean   2020.0    33.387510    11.639712   161.737390    63.799039   \n",
              "std       0.0    12.372829     2.173535     8.995185    12.719186   \n",
              "min    2020.0    11.000000     9.000000   130.000000    30.000000   \n",
              "25%    2020.0    27.000000    10.000000   155.000000    55.000000   \n",
              "50%    2020.0    41.000000    12.000000   160.000000    65.000000   \n",
              "75%    2020.0    43.000000    13.000000   170.000000    70.000000   \n",
              "max    2020.0    49.000000    18.000000   190.000000   120.000000   \n",
              "\n",
              "             Wasit  Eyesight(left)  Eyesight(right)  Hearing(left)  \\\n",
              "count  1249.000000     1249.000000      1249.000000    1249.000000   \n",
              "mean     82.505685        0.925620         0.904884       1.067254   \n",
              "std       9.844860        0.652522         0.476381       0.253739   \n",
              "min      57.000000        0.100000         0.100000       1.000000   \n",
              "25%      75.500000        0.700000         0.700000       1.000000   \n",
              "50%      83.000000        0.900000         0.900000       1.000000   \n",
              "75%      89.000000        1.000000         1.000000       1.000000   \n",
              "max     121.200000        9.900000         9.900000       3.000000   \n",
              "\n",
              "       Hearing(right)  ...     LDL콜레스테롤          혈색소          요단백  \\\n",
              "count     1249.000000  ...  1249.000000  1249.000000  1249.000000   \n",
              "mean         1.062450  ...   120.479584    14.250040     1.110488   \n",
              "std          0.245356  ...    37.611498     1.537961     0.503794   \n",
              "min          1.000000  ...    19.000000     6.500000     1.000000   \n",
              "25%          1.000000  ...    95.000000    13.300000     1.000000   \n",
              "50%          1.000000  ...   120.000000    14.300000     1.000000   \n",
              "75%          1.000000  ...   146.000000    15.400000     1.000000   \n",
              "max          3.000000  ...   251.000000    18.100000     6.000000   \n",
              "\n",
              "           혈청크레아티닌  (혈청지오티)AST   (혈청지오티)ALT        감마지티피  구강검진수검여부  \\\n",
              "count  1249.000000  1249.00000  1249.000000  1249.000000    1249.0   \n",
              "mean      0.881105    26.86309    26.672538    35.453163       1.0   \n",
              "std       0.356008    13.92527    23.392743    35.973387       0.0   \n",
              "min       0.400000     8.00000     2.000000     3.000000       1.0   \n",
              "25%       0.700000    20.00000    16.000000    17.000000       1.0   \n",
              "50%       0.900000    24.00000    21.000000    24.000000       1.0   \n",
              "75%       1.000000    29.00000    31.000000    39.000000       1.0   \n",
              "max       8.700000   265.00000   477.000000   445.000000       1.0   \n",
              "\n",
              "           치아우식증유무           치석  \n",
              "count  1249.000000  1249.000000  \n",
              "mean      0.164131     0.591673  \n",
              "std       0.370543     0.588180  \n",
              "min       0.000000     0.000000  \n",
              "25%       0.000000     0.000000  \n",
              "50%       0.000000     1.000000  \n",
              "75%       0.000000     1.000000  \n",
              "max       1.000000     2.000000  \n",
              "\n",
              "[8 rows x 26 columns]"
            ],
            "text/html": [
              "\n",
              "  <div id=\"df-a5450cef-e1c3-420c-83ad-b4dc02e29817\">\n",
              "    <div class=\"colab-df-container\">\n",
              "      <div>\n",
              "<style scoped>\n",
              "    .dataframe tbody tr th:only-of-type {\n",
              "        vertical-align: middle;\n",
              "    }\n",
              "\n",
              "    .dataframe tbody tr th {\n",
              "        vertical-align: top;\n",
              "    }\n",
              "\n",
              "    .dataframe thead th {\n",
              "        text-align: right;\n",
              "    }\n",
              "</style>\n",
              "<table border=\"1\" class=\"dataframe\">\n",
              "  <thead>\n",
              "    <tr style=\"text-align: right;\">\n",
              "      <th></th>\n",
              "      <th>Year</th>\n",
              "      <th>Zip Code</th>\n",
              "      <th>Age(unit.5)</th>\n",
              "      <th>Height(5Cm)</th>\n",
              "      <th>Weight(5Kg)</th>\n",
              "      <th>Wasit</th>\n",
              "      <th>Eyesight(left)</th>\n",
              "      <th>Eyesight(right)</th>\n",
              "      <th>Hearing(left)</th>\n",
              "      <th>Hearing(right)</th>\n",
              "      <th>...</th>\n",
              "      <th>LDL콜레스테롤</th>\n",
              "      <th>혈색소</th>\n",
              "      <th>요단백</th>\n",
              "      <th>혈청크레아티닌</th>\n",
              "      <th>(혈청지오티)AST</th>\n",
              "      <th>(혈청지오티)ALT</th>\n",
              "      <th>감마지티피</th>\n",
              "      <th>구강검진수검여부</th>\n",
              "      <th>치아우식증유무</th>\n",
              "      <th>치석</th>\n",
              "    </tr>\n",
              "  </thead>\n",
              "  <tbody>\n",
              "    <tr>\n",
              "      <th>count</th>\n",
              "      <td>1249.0</td>\n",
              "      <td>1249.000000</td>\n",
              "      <td>1249.000000</td>\n",
              "      <td>1249.000000</td>\n",
              "      <td>1249.000000</td>\n",
              "      <td>1249.000000</td>\n",
              "      <td>1249.000000</td>\n",
              "      <td>1249.000000</td>\n",
              "      <td>1249.000000</td>\n",
              "      <td>1249.000000</td>\n",
              "      <td>...</td>\n",
              "      <td>1249.000000</td>\n",
              "      <td>1249.000000</td>\n",
              "      <td>1249.000000</td>\n",
              "      <td>1249.000000</td>\n",
              "      <td>1249.00000</td>\n",
              "      <td>1249.000000</td>\n",
              "      <td>1249.000000</td>\n",
              "      <td>1249.0</td>\n",
              "      <td>1249.000000</td>\n",
              "      <td>1249.000000</td>\n",
              "    </tr>\n",
              "    <tr>\n",
              "      <th>mean</th>\n",
              "      <td>2020.0</td>\n",
              "      <td>33.387510</td>\n",
              "      <td>11.639712</td>\n",
              "      <td>161.737390</td>\n",
              "      <td>63.799039</td>\n",
              "      <td>82.505685</td>\n",
              "      <td>0.925620</td>\n",
              "      <td>0.904884</td>\n",
              "      <td>1.067254</td>\n",
              "      <td>1.062450</td>\n",
              "      <td>...</td>\n",
              "      <td>120.479584</td>\n",
              "      <td>14.250040</td>\n",
              "      <td>1.110488</td>\n",
              "      <td>0.881105</td>\n",
              "      <td>26.86309</td>\n",
              "      <td>26.672538</td>\n",
              "      <td>35.453163</td>\n",
              "      <td>1.0</td>\n",
              "      <td>0.164131</td>\n",
              "      <td>0.591673</td>\n",
              "    </tr>\n",
              "    <tr>\n",
              "      <th>std</th>\n",
              "      <td>0.0</td>\n",
              "      <td>12.372829</td>\n",
              "      <td>2.173535</td>\n",
              "      <td>8.995185</td>\n",
              "      <td>12.719186</td>\n",
              "      <td>9.844860</td>\n",
              "      <td>0.652522</td>\n",
              "      <td>0.476381</td>\n",
              "      <td>0.253739</td>\n",
              "      <td>0.245356</td>\n",
              "      <td>...</td>\n",
              "      <td>37.611498</td>\n",
              "      <td>1.537961</td>\n",
              "      <td>0.503794</td>\n",
              "      <td>0.356008</td>\n",
              "      <td>13.92527</td>\n",
              "      <td>23.392743</td>\n",
              "      <td>35.973387</td>\n",
              "      <td>0.0</td>\n",
              "      <td>0.370543</td>\n",
              "      <td>0.588180</td>\n",
              "    </tr>\n",
              "    <tr>\n",
              "      <th>min</th>\n",
              "      <td>2020.0</td>\n",
              "      <td>11.000000</td>\n",
              "      <td>9.000000</td>\n",
              "      <td>130.000000</td>\n",
              "      <td>30.000000</td>\n",
              "      <td>57.000000</td>\n",
              "      <td>0.100000</td>\n",
              "      <td>0.100000</td>\n",
              "      <td>1.000000</td>\n",
              "      <td>1.000000</td>\n",
              "      <td>...</td>\n",
              "      <td>19.000000</td>\n",
              "      <td>6.500000</td>\n",
              "      <td>1.000000</td>\n",
              "      <td>0.400000</td>\n",
              "      <td>8.00000</td>\n",
              "      <td>2.000000</td>\n",
              "      <td>3.000000</td>\n",
              "      <td>1.0</td>\n",
              "      <td>0.000000</td>\n",
              "      <td>0.000000</td>\n",
              "    </tr>\n",
              "    <tr>\n",
              "      <th>25%</th>\n",
              "      <td>2020.0</td>\n",
              "      <td>27.000000</td>\n",
              "      <td>10.000000</td>\n",
              "      <td>155.000000</td>\n",
              "      <td>55.000000</td>\n",
              "      <td>75.500000</td>\n",
              "      <td>0.700000</td>\n",
              "      <td>0.700000</td>\n",
              "      <td>1.000000</td>\n",
              "      <td>1.000000</td>\n",
              "      <td>...</td>\n",
              "      <td>95.000000</td>\n",
              "      <td>13.300000</td>\n",
              "      <td>1.000000</td>\n",
              "      <td>0.700000</td>\n",
              "      <td>20.00000</td>\n",
              "      <td>16.000000</td>\n",
              "      <td>17.000000</td>\n",
              "      <td>1.0</td>\n",
              "      <td>0.000000</td>\n",
              "      <td>0.000000</td>\n",
              "    </tr>\n",
              "    <tr>\n",
              "      <th>50%</th>\n",
              "      <td>2020.0</td>\n",
              "      <td>41.000000</td>\n",
              "      <td>12.000000</td>\n",
              "      <td>160.000000</td>\n",
              "      <td>65.000000</td>\n",
              "      <td>83.000000</td>\n",
              "      <td>0.900000</td>\n",
              "      <td>0.900000</td>\n",
              "      <td>1.000000</td>\n",
              "      <td>1.000000</td>\n",
              "      <td>...</td>\n",
              "      <td>120.000000</td>\n",
              "      <td>14.300000</td>\n",
              "      <td>1.000000</td>\n",
              "      <td>0.900000</td>\n",
              "      <td>24.00000</td>\n",
              "      <td>21.000000</td>\n",
              "      <td>24.000000</td>\n",
              "      <td>1.0</td>\n",
              "      <td>0.000000</td>\n",
              "      <td>1.000000</td>\n",
              "    </tr>\n",
              "    <tr>\n",
              "      <th>75%</th>\n",
              "      <td>2020.0</td>\n",
              "      <td>43.000000</td>\n",
              "      <td>13.000000</td>\n",
              "      <td>170.000000</td>\n",
              "      <td>70.000000</td>\n",
              "      <td>89.000000</td>\n",
              "      <td>1.000000</td>\n",
              "      <td>1.000000</td>\n",
              "      <td>1.000000</td>\n",
              "      <td>1.000000</td>\n",
              "      <td>...</td>\n",
              "      <td>146.000000</td>\n",
              "      <td>15.400000</td>\n",
              "      <td>1.000000</td>\n",
              "      <td>1.000000</td>\n",
              "      <td>29.00000</td>\n",
              "      <td>31.000000</td>\n",
              "      <td>39.000000</td>\n",
              "      <td>1.0</td>\n",
              "      <td>0.000000</td>\n",
              "      <td>1.000000</td>\n",
              "    </tr>\n",
              "    <tr>\n",
              "      <th>max</th>\n",
              "      <td>2020.0</td>\n",
              "      <td>49.000000</td>\n",
              "      <td>18.000000</td>\n",
              "      <td>190.000000</td>\n",
              "      <td>120.000000</td>\n",
              "      <td>121.200000</td>\n",
              "      <td>9.900000</td>\n",
              "      <td>9.900000</td>\n",
              "      <td>3.000000</td>\n",
              "      <td>3.000000</td>\n",
              "      <td>...</td>\n",
              "      <td>251.000000</td>\n",
              "      <td>18.100000</td>\n",
              "      <td>6.000000</td>\n",
              "      <td>8.700000</td>\n",
              "      <td>265.00000</td>\n",
              "      <td>477.000000</td>\n",
              "      <td>445.000000</td>\n",
              "      <td>1.0</td>\n",
              "      <td>1.000000</td>\n",
              "      <td>2.000000</td>\n",
              "    </tr>\n",
              "  </tbody>\n",
              "</table>\n",
              "<p>8 rows × 26 columns</p>\n",
              "</div>\n",
              "      <button class=\"colab-df-convert\" onclick=\"convertToInteractive('df-a5450cef-e1c3-420c-83ad-b4dc02e29817')\"\n",
              "              title=\"Convert this dataframe to an interactive table.\"\n",
              "              style=\"display:none;\">\n",
              "        \n",
              "  <svg xmlns=\"http://www.w3.org/2000/svg\" height=\"24px\"viewBox=\"0 0 24 24\"\n",
              "       width=\"24px\">\n",
              "    <path d=\"M0 0h24v24H0V0z\" fill=\"none\"/>\n",
              "    <path d=\"M18.56 5.44l.94 2.06.94-2.06 2.06-.94-2.06-.94-.94-2.06-.94 2.06-2.06.94zm-11 1L8.5 8.5l.94-2.06 2.06-.94-2.06-.94L8.5 2.5l-.94 2.06-2.06.94zm10 10l.94 2.06.94-2.06 2.06-.94-2.06-.94-.94-2.06-.94 2.06-2.06.94z\"/><path d=\"M17.41 7.96l-1.37-1.37c-.4-.4-.92-.59-1.43-.59-.52 0-1.04.2-1.43.59L10.3 9.45l-7.72 7.72c-.78.78-.78 2.05 0 2.83L4 21.41c.39.39.9.59 1.41.59.51 0 1.02-.2 1.41-.59l7.78-7.78 2.81-2.81c.8-.78.8-2.07 0-2.86zM5.41 20L4 18.59l7.72-7.72 1.47 1.35L5.41 20z\"/>\n",
              "  </svg>\n",
              "      </button>\n",
              "      \n",
              "  <style>\n",
              "    .colab-df-container {\n",
              "      display:flex;\n",
              "      flex-wrap:wrap;\n",
              "      gap: 12px;\n",
              "    }\n",
              "\n",
              "    .colab-df-convert {\n",
              "      background-color: #E8F0FE;\n",
              "      border: none;\n",
              "      border-radius: 50%;\n",
              "      cursor: pointer;\n",
              "      display: none;\n",
              "      fill: #1967D2;\n",
              "      height: 32px;\n",
              "      padding: 0 0 0 0;\n",
              "      width: 32px;\n",
              "    }\n",
              "\n",
              "    .colab-df-convert:hover {\n",
              "      background-color: #E2EBFA;\n",
              "      box-shadow: 0px 1px 2px rgba(60, 64, 67, 0.3), 0px 1px 3px 1px rgba(60, 64, 67, 0.15);\n",
              "      fill: #174EA6;\n",
              "    }\n",
              "\n",
              "    [theme=dark] .colab-df-convert {\n",
              "      background-color: #3B4455;\n",
              "      fill: #D2E3FC;\n",
              "    }\n",
              "\n",
              "    [theme=dark] .colab-df-convert:hover {\n",
              "      background-color: #434B5C;\n",
              "      box-shadow: 0px 1px 3px 1px rgba(0, 0, 0, 0.15);\n",
              "      filter: drop-shadow(0px 1px 2px rgba(0, 0, 0, 0.3));\n",
              "      fill: #FFFFFF;\n",
              "    }\n",
              "  </style>\n",
              "\n",
              "      <script>\n",
              "        const buttonEl =\n",
              "          document.querySelector('#df-a5450cef-e1c3-420c-83ad-b4dc02e29817 button.colab-df-convert');\n",
              "        buttonEl.style.display =\n",
              "          google.colab.kernel.accessAllowed ? 'block' : 'none';\n",
              "\n",
              "        async function convertToInteractive(key) {\n",
              "          const element = document.querySelector('#df-a5450cef-e1c3-420c-83ad-b4dc02e29817');\n",
              "          const dataTable =\n",
              "            await google.colab.kernel.invokeFunction('convertToInteractive',\n",
              "                                                     [key], {});\n",
              "          if (!dataTable) return;\n",
              "\n",
              "          const docLinkHtml = 'Like what you see? Visit the ' +\n",
              "            '<a target=\"_blank\" href=https://colab.research.google.com/notebooks/data_table.ipynb>data table notebook</a>'\n",
              "            + ' to learn more about interactive tables.';\n",
              "          element.innerHTML = '';\n",
              "          dataTable['output_type'] = 'display_data';\n",
              "          await google.colab.output.renderOutput(dataTable, element);\n",
              "          const docLink = document.createElement('div');\n",
              "          docLink.innerHTML = docLinkHtml;\n",
              "          element.appendChild(docLink);\n",
              "        }\n",
              "      </script>\n",
              "    </div>\n",
              "  </div>\n",
              "  "
            ]
          },
          "metadata": {},
          "execution_count": 11
        }
      ]
    },
    {
      "cell_type": "code",
      "source": [
        "print(health['Drink'].value_counts())\n",
        "\n",
        "health['Drink'].value_counts().plot.bar()\n",
        "plt.ylabel('count')\n",
        "plt.title('Distribution of Drinking')\n",
        "plt.show()"
      ],
      "metadata": {
        "colab": {
          "base_uri": "https://localhost:8080/",
          "height": 341
        },
        "id": "zONo7tBMFckr",
        "outputId": "807f84c7-6649-457a-8e18-d00444aa4d97"
      },
      "execution_count": null,
      "outputs": [
        {
          "output_type": "stream",
          "name": "stdout",
          "text": [
            "1.0    802\n",
            "0.0    447\n",
            "Name: Drink, dtype: int64\n"
          ]
        },
        {
          "output_type": "display_data",
          "data": {
            "text/plain": [
              "<Figure size 432x288 with 1 Axes>"
            ],
            "image/png": "[encoded data removed]"
          },
          "metadata": {
            "needs_background": "light"
          }
        }
      ]
    },
    {
      "cell_type": "code",
      "source": [
        "print(health['Smoke'].value_counts())\n",
        "\n",
        "health['Smoke'].value_counts().plot.bar()\n",
        "plt.ylabel('count')\n",
        "plt.title('Distribution of Smoking')\n",
        "plt.show()"
      ],
      "metadata": {
        "colab": {
          "base_uri": "https://localhost:8080/",
          "height": 359
        },
        "id": "6H8pScJHNKbO",
        "outputId": "023dec90-fa3d-4529-99fc-a689e6012a6e"
      },
      "execution_count": null,
      "outputs": [
        {
          "output_type": "stream",
          "name": "stdout",
          "text": [
            "0.0    740\n",
            "1.0    286\n",
            "2.0    223\n",
            "Name: Smoke, dtype: int64\n"
          ]
        },
        {
          "output_type": "display_data",
          "data": {
            "text/plain": [
              "<Figure size 432x288 with 1 Axes>"
            ],
            "image/png": "[encoded data removed]"
          },
          "metadata": {
            "needs_background": "light"
          }
        }
      ]
    },
    {
      "cell_type": "markdown",
      "source": [
        "데이터 탐색 과정으로서 먼저 음주를 하는 사람들과 흡연을 하는 사람들의 분포를 확인해 보았다. \n",
        "\n",
        "양치와 치실 사용에 소홀해지거나 담배를 피면 치주질환에 걸릴 위험이 커진다는 것은 흔히 모두가 아는 사실이다. \n",
        "해당 건강검진 데이터를 통하여 치석이 어떠한 변수들에 의해 영향을 받는지 확인해보고 싶었다."
      ],
      "metadata": {
        "id": "O-b10nAhMrnC"
      }
    },
    {
      "cell_type": "code",
      "source": [
        "health.loc[ (health['Drink'] == \"No\"), 'Drink'] = 0\n",
        "health.loc[ (health['Drink'] == \"Yes\"), 'Drink'] = 1\n",
        "health = health.astype({'Drink':'float'})"
      ],
      "metadata": {
        "id": "l-O1PEb81sA3"
      },
      "execution_count": null,
      "outputs": []
    },
    {
      "cell_type": "code",
      "source": [
        "health.loc[ (health['Sex'] == \"F\"), 'Sex'] = 0\n",
        "health.loc[ (health['Sex'] == \"M\"), 'Sex'] = 1\n",
        "health = health.astype({'Sex':'float'})"
      ],
      "metadata": {
        "id": "iAUDiRTk5ihu"
      },
      "execution_count": null,
      "outputs": []
    },
    {
      "cell_type": "code",
      "source": [
        "from sklearn.model_selection import train_test_split\n",
        "X = health.drop(['치석'],axis = 1)\n",
        "y = health['치석']\n",
        "# train, test 데이터 분할\n",
        "X_train, X_test, y_train, y_test = train_test_split(X, y, test_size = 0.25, stratify=y, random_state=42)"
      ],
      "metadata": {
        "id": "Ykb75RsxwUPX"
      },
      "execution_count": null,
      "outputs": []
    },
    {
      "cell_type": "code",
      "source": [
        "X_train['Drink']"
      ],
      "metadata": {
        "colab": {
          "base_uri": "https://localhost:8080/"
        },
        "id": "BoYiTPXo1eqb",
        "outputId": "0a750c0c-1aa9-40aa-89ec-6bbc34a3df36"
      },
      "execution_count": null,
      "outputs": [
        {
          "output_type": "execute_result",
          "data": {
            "text/plain": [
              "Number\n",
              "1834    0.0\n",
              "3255    1.0\n",
              "4056    0.0\n",
              "2944    0.0\n",
              "3005    1.0\n",
              "       ... \n",
              "6281    0.0\n",
              "605     0.0\n",
              "2456    1.0\n",
              "5661    0.0\n",
              "8156    0.0\n",
              "Name: Drink, Length: 936, dtype: float64"
            ]
          },
          "metadata": {},
          "execution_count": 37
        }
      ]
    },
    {
      "cell_type": "code",
      "source": [
        "mglearn.discrete_scatter(X_train['Age(unit.5)'], X_train['식전혈당(공복혈당)'], y_train)\n",
        "\n",
        "plt.xlabel(\"나이\")\n",
        "plt.ylabel(\"식전혈당(당뇨)\")\n",
        "plt.legend()\n",
        "plt.show()"
      ],
      "metadata": {
        "colab": {
          "base_uri": "https://localhost:8080/",
          "height": 279
        },
        "id": "paqKPYUHdTox",
        "outputId": "37a01e4c-8c75-4fcd-c6c0-0ada7a84ed33"
      },
      "execution_count": null,
      "outputs": [
        {
          "output_type": "display_data",
          "data": {
            "text/plain": [
              "<Figure size 432x288 with 1 Axes>"
            ],
            "image/png": "[encoded data removed]"
          },
          "metadata": {
            "needs_background": "light"
          }
        }
      ]
    },
    {
      "cell_type": "markdown",
      "source": [
        "치석을 변수값으로 두고, 나이와 식전혈당(당뇨) 여부에 따라서 과연 치석과 관련도가 높은지 확인해보았다. \n",
        "탐색을 진행하기 전, 나이가 많을수록, 당뇨가 있을 수록 치석이 많을 것이라고 생각하였다.\n",
        "\n",
        "미국 당뇨병학회에서는 망막병증과 신장질환, 신경병증, 말초혈관질환, 대혈관질환에 이어 치주질환을 6번째 합병증으로 꼽았다. \n",
        "또한, 치주과 교수에 따르면 건강한 사람과 비교해 2형 당뇨병 환자는 치주질환이 생길 위험이 약 2.6배라고 한 사전조사 단계에서 발견한 인사이트 때문이었다. "
      ],
      "metadata": {
        "id": "x95uVG8LM42b"
      }
    },
    {
      "cell_type": "markdown",
      "source": [
        "**의사결정나무**"
      ],
      "metadata": {
        "id": "-8BcLV6ENsfE"
      }
    },
    {
      "cell_type": "code",
      "source": [
        "mglearn.plots.plot_tree_progressive"
      ],
      "metadata": {
        "colab": {
          "base_uri": "https://localhost:8080/"
        },
        "id": "dCFgM3LaYNZ8",
        "outputId": "2ee97295-faec-4b9e-e7cc-82d2e30a79f4"
      },
      "execution_count": null,
      "outputs": [
        {
          "output_type": "execute_result",
          "data": {
            "text/plain": [
              "<function mglearn.plot_interactive_tree.plot_tree_progressive()>"
            ]
          },
          "metadata": {},
          "execution_count": 39
        }
      ]
    },
    {
      "cell_type": "code",
      "source": [
        "from sklearn.tree import DecisionTreeClassifier\n",
        "tree = DecisionTreeClassifier(random_state=0)  \n",
        "tree.fit(X_train, y_train)"
      ],
      "metadata": {
        "colab": {
          "base_uri": "https://localhost:8080/"
        },
        "id": "9QfXfFDM5FwG",
        "outputId": "fd9b3d2f-0afe-4a36-b715-c6a6e77cd2a7"
      },
      "execution_count": null,
      "outputs": [
        {
          "output_type": "execute_result",
          "data": {
            "text/plain": [
              "DecisionTreeClassifier(random_state=0)"
            ]
          },
          "metadata": {},
          "execution_count": 40
        }
      ]
    },
    {
      "cell_type": "code",
      "source": [
        "tree = DecisionTreeClassifier(max_depth=4, random_state=0)\n",
        "tree.fit(X_train, y_train)"
      ],
      "metadata": {
        "colab": {
          "base_uri": "https://localhost:8080/"
        },
        "id": "QsHLgmY45B53",
        "outputId": "21cc56a7-0aba-46f2-dcf3-9adf5eacacd2"
      },
      "execution_count": null,
      "outputs": [
        {
          "output_type": "execute_result",
          "data": {
            "text/plain": [
              "DecisionTreeClassifier(max_depth=4, random_state=0)"
            ]
          },
          "metadata": {},
          "execution_count": 41
        }
      ]
    },
    {
      "cell_type": "code",
      "source": [
        "tree = DecisionTreeClassifier(max_depth=4, random_state=0)\n",
        "tree.fit(X_train, y_train)\n",
        "\n",
        "print(\"학습용 데이터 정확도: {:.3f}\".format(tree.score(X_train, y_train)))\n",
        "print(\"시험용 데이터 정확도: {:.3f}\".format(tree.score(X_test, y_test)))"
      ],
      "metadata": {
        "colab": {
          "base_uri": "https://localhost:8080/"
        },
        "id": "hKYJrbl06Sms",
        "outputId": "b474474d-52d9-411e-8a7d-b54b4320fd10"
      },
      "execution_count": null,
      "outputs": [
        {
          "output_type": "stream",
          "name": "stdout",
          "text": [
            "학습용 데이터 정확도: 0.590\n",
            "시험용 데이터 정확도: 0.482\n"
          ]
        }
      ]
    },
    {
      "cell_type": "code",
      "source": [
        "from sklearn.tree import export_graphviz\n",
        "import graphviz\n",
        "\n",
        "export_graphviz(tree, out_file=\"tree.dot\", class_names=[ \"없음\", \"있음\", \"측정불가\"],    \n",
        "                feature_names=health.columns[1:], impurity=False, filled=True)\n",
        "with open(\"tree.dot\") as f:\n",
        "    dot_graph = f.read()\n",
        "\n",
        "display(graphviz.Source(dot_graph))"
      ],
      "metadata": {
        "colab": {
          "base_uri": "https://localhost:8080/",
          "height": 676
        },
        "id": "u0eaJh_66b-h",
        "outputId": "09ad77d5-f899-4c8d-cfb4-92600d2ddb26"
      },
      "execution_count": null,
      "outputs": [
        {
          "output_type": "display_data",
          "data": {
            "text/plain": [
              "<graphviz.files.Source at 0x7fe220364ad0>"
            ],
            "image/svg+xml": "<?xml version=\"1.0\" encoding=\"UTF-8\" standalone=\"no\"?>\n<!DOCTYPE svg PUBLIC \"-//W3C//DTD SVG 1.1//EN\"\n \"http://www.w3.org/Graphics/SVG/1.1/DTD/svg11.dtd\">\n<!-- Generated by graphviz version 2.40.1 (20161225.0304)\n -->\n<!-- Title: Tree Pages: 1 -->\n<svg width=\"1945pt\" height=\"477pt\"\n viewBox=\"0.00 0.00 1945.00 477.00\" xmlns=\"http://www.w3.org/2000/svg\" xmlns:xlink=\"http://www.w3.org/1999/xlink\">\n<g id=\"graph0\" class=\"graph\" transform=\"scale(1 1) rotate(0) translate(4 473)\">\n<title>Tree</title>\n<polygon fill=\"#ffffff\" stroke=\"transparent\" points=\"-4,4 -4,-473 1941,-473 1941,4 -4,4\"/>\n<!-- 0 -->\n<g id=\"node1\" class=\"node\">\n<title>0</title>\n<polygon fill=\"#f5fef9\" stroke=\"#000000\" points=\"1292,-469 1136,-469 1136,-401 1292,-401 1292,-469\"/>\n<text text-anchor=\"middle\" x=\"1214\" y=\"-453.8\" font-family=\"Helvetica,sans-Serif\" font-size=\"14.00\" fill=\"#000000\">치석 &lt;= 0.5</text>\n<text text-anchor=\"middle\" x=\"1214\" y=\"-438.8\" font-family=\"Helvetica,sans-Serif\" font-size=\"14.00\" fill=\"#000000\">samples = 936</text>\n<text text-anchor=\"middle\" x=\"1214\" y=\"-423.8\" font-family=\"Helvetica,sans-Serif\" font-size=\"14.00\" fill=\"#000000\">value = [431, 456, 49]</text>\n<text text-anchor=\"middle\" x=\"1214\" y=\"-408.8\" font-family=\"Helvetica,sans-Serif\" font-size=\"14.00\" fill=\"#000000\">class = 있음</text>\n</g>\n<!-- 1 -->\n<g id=\"node2\" class=\"node\">\n<title>1</title>\n<polygon fill=\"#fcf0e8\" stroke=\"#000000\" points=\"984,-365 828,-365 828,-297 984,-297 984,-365\"/>\n<text text-anchor=\"middle\" x=\"906\" y=\"-349.8\" font-family=\"Helvetica,sans-Serif\" font-size=\"14.00\" fill=\"#000000\">Height(5Cm) &lt;= 11.5</text>\n<text text-anchor=\"middle\" x=\"906\" y=\"-334.8\" font-family=\"Helvetica,sans-Serif\" font-size=\"14.00\" fill=\"#000000\">samples = 775</text>\n<text text-anchor=\"middle\" x=\"906\" y=\"-319.8\" font-family=\"Helvetica,sans-Serif\" font-size=\"14.00\" fill=\"#000000\">value = [397, 347, 31]</text>\n<text text-anchor=\"middle\" x=\"906\" y=\"-304.8\" font-family=\"Helvetica,sans-Serif\" font-size=\"14.00\" fill=\"#000000\">class = 없음</text>\n</g>\n<!-- 0&#45;&gt;1 -->\n<g id=\"edge1\" class=\"edge\">\n<title>0&#45;&gt;1</title>\n<path fill=\"none\" stroke=\"#000000\" d=\"M1135.8804,-408.622C1092.545,-393.9892 1038.5222,-375.7478 993.7375,-360.6256\"/>\n<polygon fill=\"#000000\" stroke=\"#000000\" points=\"994.6305,-357.2331 984.0363,-357.3499 992.391,-363.8652 994.6305,-357.2331\"/>\n<text text-anchor=\"middle\" x=\"995.1296\" y=\"-376.0539\" font-family=\"Helvetica,sans-Serif\" font-size=\"14.00\" fill=\"#000000\">True</text>\n</g>\n<!-- 16 -->\n<g id=\"node17\" class=\"node\">\n<title>16</title>\n<polygon fill=\"#8af0b5\" stroke=\"#000000\" points=\"1549,-365 1401,-365 1401,-297 1549,-297 1549,-365\"/>\n<text text-anchor=\"middle\" x=\"1475\" y=\"-349.8\" font-family=\"Helvetica,sans-Serif\" font-size=\"14.00\" fill=\"#000000\">혈색소 &lt;= 157.5</text>\n<text text-anchor=\"middle\" x=\"1475\" y=\"-334.8\" font-family=\"Helvetica,sans-Serif\" font-size=\"14.00\" fill=\"#000000\">samples = 161</text>\n<text text-anchor=\"middle\" x=\"1475\" y=\"-319.8\" font-family=\"Helvetica,sans-Serif\" font-size=\"14.00\" fill=\"#000000\">value = [34, 109, 18]</text>\n<text text-anchor=\"middle\" x=\"1475\" y=\"-304.8\" font-family=\"Helvetica,sans-Serif\" font-size=\"14.00\" fill=\"#000000\">class = 있음</text>\n</g>\n<!-- 0&#45;&gt;16 -->\n<g id=\"edge16\" class=\"edge\">\n<title>0&#45;&gt;16</title>\n<path fill=\"none\" stroke=\"#000000\" d=\"M1292.3086,-403.7966C1323.4704,-391.3796 1359.3858,-377.0685 1391.0814,-364.4388\"/>\n<polygon fill=\"#000000\" stroke=\"#000000\" points=\"1392.7784,-367.5303 1400.7725,-360.5772 1390.1873,-361.0275 1392.7784,-367.5303\"/>\n<text text-anchor=\"middle\" x=\"1390.8942\" y=\"-379.8428\" font-family=\"Helvetica,sans-Serif\" font-size=\"14.00\" fill=\"#000000\">False</text>\n</g>\n<!-- 2 -->\n<g id=\"node3\" class=\"node\">\n<title>2</title>\n<polygon fill=\"#ebfcf2\" stroke=\"#000000\" points=\"533,-261 377,-261 377,-193 533,-193 533,-261\"/>\n<text text-anchor=\"middle\" x=\"455\" y=\"-245.8\" font-family=\"Helvetica,sans-Serif\" font-size=\"14.00\" fill=\"#000000\">Smoke &lt;= 63.0</text>\n<text text-anchor=\"middle\" x=\"455\" y=\"-230.8\" font-family=\"Helvetica,sans-Serif\" font-size=\"14.00\" fill=\"#000000\">samples = 379</text>\n<text text-anchor=\"middle\" x=\"455\" y=\"-215.8\" font-family=\"Helvetica,sans-Serif\" font-size=\"14.00\" fill=\"#000000\">value = [173, 194, 12]</text>\n<text text-anchor=\"middle\" x=\"455\" y=\"-200.8\" font-family=\"Helvetica,sans-Serif\" font-size=\"14.00\" fill=\"#000000\">class = 있음</text>\n</g>\n<!-- 1&#45;&gt;2 -->\n<g id=\"edge2\" class=\"edge\">\n<title>1&#45;&gt;2</title>\n<path fill=\"none\" stroke=\"#000000\" d=\"M827.9567,-313.0033C748.6148,-294.7072 625.9032,-266.4101 543.1135,-247.3189\"/>\n<polygon fill=\"#000000\" stroke=\"#000000\" points=\"543.7514,-243.8742 533.2207,-245.0376 542.1785,-250.6952 543.7514,-243.8742\"/>\n</g>\n<!-- 9 -->\n<g id=\"node10\" class=\"node\">\n<title>9</title>\n<polygon fill=\"#f7dac5\" stroke=\"#000000\" points=\"984,-261 828,-261 828,-193 984,-193 984,-261\"/>\n<text text-anchor=\"middle\" x=\"906\" y=\"-245.8\" font-family=\"Helvetica,sans-Serif\" font-size=\"14.00\" fill=\"#000000\">Sex &lt;= 42.5</text>\n<text text-anchor=\"middle\" x=\"906\" y=\"-230.8\" font-family=\"Helvetica,sans-Serif\" font-size=\"14.00\" fill=\"#000000\">samples = 396</text>\n<text text-anchor=\"middle\" x=\"906\" y=\"-215.8\" font-family=\"Helvetica,sans-Serif\" font-size=\"14.00\" fill=\"#000000\">value = [224, 153, 19]</text>\n<text text-anchor=\"middle\" x=\"906\" y=\"-200.8\" font-family=\"Helvetica,sans-Serif\" font-size=\"14.00\" fill=\"#000000\">class = 없음</text>\n</g>\n<!-- 1&#45;&gt;9 -->\n<g id=\"edge9\" class=\"edge\">\n<title>1&#45;&gt;9</title>\n<path fill=\"none\" stroke=\"#000000\" d=\"M906,-296.9465C906,-288.776 906,-279.9318 906,-271.3697\"/>\n<polygon fill=\"#000000\" stroke=\"#000000\" points=\"909.5001,-271.13 906,-261.13 902.5001,-271.13 909.5001,-271.13\"/>\n</g>\n<!-- 3 -->\n<g id=\"node4\" class=\"node\">\n<title>3</title>\n<polygon fill=\"#dcfae9\" stroke=\"#000000\" points=\"306,-157 158,-157 158,-89 306,-89 306,-157\"/>\n<text text-anchor=\"middle\" x=\"232\" y=\"-141.8\" font-family=\"Helvetica,sans-Serif\" font-size=\"14.00\" fill=\"#000000\">감마지티피 &lt;= 30.5</text>\n<text text-anchor=\"middle\" x=\"232\" y=\"-126.8\" font-family=\"Helvetica,sans-Serif\" font-size=\"14.00\" fill=\"#000000\">samples = 336</text>\n<text text-anchor=\"middle\" x=\"232\" y=\"-111.8\" font-family=\"Helvetica,sans-Serif\" font-size=\"14.00\" fill=\"#000000\">value = [148, 181, 7]</text>\n<text text-anchor=\"middle\" x=\"232\" y=\"-96.8\" font-family=\"Helvetica,sans-Serif\" font-size=\"14.00\" fill=\"#000000\">class = 있음</text>\n</g>\n<!-- 2&#45;&gt;3 -->\n<g id=\"edge3\" class=\"edge\">\n<title>2&#45;&gt;3</title>\n<path fill=\"none\" stroke=\"#000000\" d=\"M381.9815,-192.9465C360.3229,-182.8457 336.4563,-171.7151 314.2544,-161.3608\"/>\n<polygon fill=\"#000000\" stroke=\"#000000\" points=\"315.7248,-158.1847 305.1826,-157.13 312.7661,-164.5287 315.7248,-158.1847\"/>\n</g>\n<!-- 6 -->\n<g id=\"node7\" class=\"node\">\n<title>6</title>\n<polygon fill=\"#f5cdb0\" stroke=\"#000000\" points=\"520.5,-157 389.5,-157 389.5,-89 520.5,-89 520.5,-157\"/>\n<text text-anchor=\"middle\" x=\"455\" y=\"-141.8\" font-family=\"Helvetica,sans-Serif\" font-size=\"14.00\" fill=\"#000000\">Smoke &lt;= 67.0</text>\n<text text-anchor=\"middle\" x=\"455\" y=\"-126.8\" font-family=\"Helvetica,sans-Serif\" font-size=\"14.00\" fill=\"#000000\">samples = 43</text>\n<text text-anchor=\"middle\" x=\"455\" y=\"-111.8\" font-family=\"Helvetica,sans-Serif\" font-size=\"14.00\" fill=\"#000000\">value = [25, 13, 5]</text>\n<text text-anchor=\"middle\" x=\"455\" y=\"-96.8\" font-family=\"Helvetica,sans-Serif\" font-size=\"14.00\" fill=\"#000000\">class = 없음</text>\n</g>\n<!-- 2&#45;&gt;6 -->\n<g id=\"edge6\" class=\"edge\">\n<title>2&#45;&gt;6</title>\n<path fill=\"none\" stroke=\"#000000\" d=\"M455,-192.9465C455,-184.776 455,-175.9318 455,-167.3697\"/>\n<polygon fill=\"#000000\" stroke=\"#000000\" points=\"458.5001,-167.13 455,-157.13 451.5001,-167.13 458.5001,-167.13\"/>\n</g>\n<!-- 4 -->\n<g id=\"node5\" class=\"node\">\n<title>4</title>\n<polygon fill=\"#fffefd\" stroke=\"#000000\" points=\"148,-53 0,-53 0,0 148,0 148,-53\"/>\n<text text-anchor=\"middle\" x=\"74\" y=\"-37.8\" font-family=\"Helvetica,sans-Serif\" font-size=\"14.00\" fill=\"#000000\">samples = 255</text>\n<text text-anchor=\"middle\" x=\"74\" y=\"-22.8\" font-family=\"Helvetica,sans-Serif\" font-size=\"14.00\" fill=\"#000000\">value = [125, 124, 6]</text>\n<text text-anchor=\"middle\" x=\"74\" y=\"-7.8\" font-family=\"Helvetica,sans-Serif\" font-size=\"14.00\" fill=\"#000000\">class = 없음</text>\n</g>\n<!-- 3&#45;&gt;4 -->\n<g id=\"edge4\" class=\"edge\">\n<title>3&#45;&gt;4</title>\n<path fill=\"none\" stroke=\"#000000\" d=\"M176.2951,-88.9777C160.028,-79.0424 142.3136,-68.2232 126.2674,-58.4228\"/>\n<polygon fill=\"#000000\" stroke=\"#000000\" points=\"127.9027,-55.3204 117.5442,-53.095 124.254,-61.2943 127.9027,-55.3204\"/>\n</g>\n<!-- 5 -->\n<g id=\"node6\" class=\"node\">\n<title>5</title>\n<polygon fill=\"#8bf0b5\" stroke=\"#000000\" points=\"297.5,-53 166.5,-53 166.5,0 297.5,0 297.5,-53\"/>\n<text text-anchor=\"middle\" x=\"232\" y=\"-37.8\" font-family=\"Helvetica,sans-Serif\" font-size=\"14.00\" fill=\"#000000\">samples = 81</text>\n<text text-anchor=\"middle\" x=\"232\" y=\"-22.8\" font-family=\"Helvetica,sans-Serif\" font-size=\"14.00\" fill=\"#000000\">value = [23, 57, 1]</text>\n<text text-anchor=\"middle\" x=\"232\" y=\"-7.8\" font-family=\"Helvetica,sans-Serif\" font-size=\"14.00\" fill=\"#000000\">class = 있음</text>\n</g>\n<!-- 3&#45;&gt;5 -->\n<g id=\"edge5\" class=\"edge\">\n<title>3&#45;&gt;5</title>\n<path fill=\"none\" stroke=\"#000000\" d=\"M232,-88.9777C232,-80.7364 232,-71.887 232,-63.5153\"/>\n<polygon fill=\"#000000\" stroke=\"#000000\" points=\"235.5001,-63.2484 232,-53.2485 228.5001,-63.2485 235.5001,-63.2484\"/>\n</g>\n<!-- 7 -->\n<g id=\"node8\" class=\"node\">\n<title>7</title>\n<polygon fill=\"#8139e5\" stroke=\"#000000\" points=\"436,-53 316,-53 316,0 436,0 436,-53\"/>\n<text text-anchor=\"middle\" x=\"376\" y=\"-37.8\" font-family=\"Helvetica,sans-Serif\" font-size=\"14.00\" fill=\"#000000\">samples = 2</text>\n<text text-anchor=\"middle\" x=\"376\" y=\"-22.8\" font-family=\"Helvetica,sans-Serif\" font-size=\"14.00\" fill=\"#000000\">value = [0, 0, 2]</text>\n<text text-anchor=\"middle\" x=\"376\" y=\"-7.8\" font-family=\"Helvetica,sans-Serif\" font-size=\"14.00\" fill=\"#000000\">class = 측정불가</text>\n</g>\n<!-- 6&#45;&gt;7 -->\n<g id=\"edge7\" class=\"edge\">\n<title>6&#45;&gt;7</title>\n<path fill=\"none\" stroke=\"#000000\" d=\"M427.1476,-88.9777C419.7261,-79.9123 411.7023,-70.111 404.2593,-61.0192\"/>\n<polygon fill=\"#000000\" stroke=\"#000000\" points=\"406.9405,-58.7692 397.8977,-53.2485 401.5241,-63.2034 406.9405,-58.7692\"/>\n</g>\n<!-- 8 -->\n<g id=\"node9\" class=\"node\">\n<title>8</title>\n<polygon fill=\"#f4c9aa\" stroke=\"#000000\" points=\"585.5,-53 454.5,-53 454.5,0 585.5,0 585.5,-53\"/>\n<text text-anchor=\"middle\" x=\"520\" y=\"-37.8\" font-family=\"Helvetica,sans-Serif\" font-size=\"14.00\" fill=\"#000000\">samples = 41</text>\n<text text-anchor=\"middle\" x=\"520\" y=\"-22.8\" font-family=\"Helvetica,sans-Serif\" font-size=\"14.00\" fill=\"#000000\">value = [25, 13, 3]</text>\n<text text-anchor=\"middle\" x=\"520\" y=\"-7.8\" font-family=\"Helvetica,sans-Serif\" font-size=\"14.00\" fill=\"#000000\">class = 없음</text>\n</g>\n<!-- 6&#45;&gt;8 -->\n<g id=\"edge8\" class=\"edge\">\n<title>6&#45;&gt;8</title>\n<path fill=\"none\" stroke=\"#000000\" d=\"M477.9166,-88.9777C483.8994,-80.0954 490.3582,-70.5067 496.377,-61.5711\"/>\n<polygon fill=\"#000000\" stroke=\"#000000\" points=\"499.2991,-63.4978 501.9829,-53.2485 493.4933,-59.5871 499.2991,-63.4978\"/>\n</g>\n<!-- 10 -->\n<g id=\"node11\" class=\"node\">\n<title>10</title>\n<polygon fill=\"#fae8db\" stroke=\"#000000\" points=\"890,-157 734,-157 734,-89 890,-89 890,-157\"/>\n<text text-anchor=\"middle\" x=\"812\" y=\"-141.8\" font-family=\"Helvetica,sans-Serif\" font-size=\"14.00\" fill=\"#000000\">Smoke &lt;= 142.0</text>\n<text text-anchor=\"middle\" x=\"812\" y=\"-126.8\" font-family=\"Helvetica,sans-Serif\" font-size=\"14.00\" fill=\"#000000\">samples = 298</text>\n<text text-anchor=\"middle\" x=\"812\" y=\"-111.8\" font-family=\"Helvetica,sans-Serif\" font-size=\"14.00\" fill=\"#000000\">value = [157, 126, 15]</text>\n<text text-anchor=\"middle\" x=\"812\" y=\"-96.8\" font-family=\"Helvetica,sans-Serif\" font-size=\"14.00\" fill=\"#000000\">class = 없음</text>\n</g>\n<!-- 9&#45;&gt;10 -->\n<g id=\"edge10\" class=\"edge\">\n<title>9&#45;&gt;10</title>\n<path fill=\"none\" stroke=\"#000000\" d=\"M875.2209,-192.9465C867.0245,-183.8782 858.078,-173.9799 849.5625,-164.5585\"/>\n<polygon fill=\"#000000\" stroke=\"#000000\" points=\"852.1503,-162.2019 842.8483,-157.13 846.9571,-166.8957 852.1503,-162.2019\"/>\n</g>\n<!-- 13 -->\n<g id=\"node14\" class=\"node\">\n<title>13</title>\n<polygon fill=\"#f0b88f\" stroke=\"#000000\" points=\"1093.5,-157 908.5,-157 908.5,-89 1093.5,-89 1093.5,-157\"/>\n<text text-anchor=\"middle\" x=\"1001\" y=\"-141.8\" font-family=\"Helvetica,sans-Serif\" font-size=\"14.00\" fill=\"#000000\">트리글리세라이드 &lt;= 208.5</text>\n<text text-anchor=\"middle\" x=\"1001\" y=\"-126.8\" font-family=\"Helvetica,sans-Serif\" font-size=\"14.00\" fill=\"#000000\">samples = 98</text>\n<text text-anchor=\"middle\" x=\"1001\" y=\"-111.8\" font-family=\"Helvetica,sans-Serif\" font-size=\"14.00\" fill=\"#000000\">value = [67, 27, 4]</text>\n<text text-anchor=\"middle\" x=\"1001\" y=\"-96.8\" font-family=\"Helvetica,sans-Serif\" font-size=\"14.00\" fill=\"#000000\">class = 없음</text>\n</g>\n<!-- 9&#45;&gt;13 -->\n<g id=\"edge13\" class=\"edge\">\n<title>9&#45;&gt;13</title>\n<path fill=\"none\" stroke=\"#000000\" d=\"M937.1066,-192.9465C945.3901,-183.8782 954.4318,-173.9799 963.0379,-164.5585\"/>\n<polygon fill=\"#000000\" stroke=\"#000000\" points=\"965.6633,-166.8739 969.8236,-157.13 960.495,-162.1528 965.6633,-166.8739\"/>\n</g>\n<!-- 11 -->\n<g id=\"node12\" class=\"node\">\n<title>11</title>\n<polygon fill=\"#fae5d7\" stroke=\"#000000\" points=\"760,-53 604,-53 604,0 760,0 760,-53\"/>\n<text text-anchor=\"middle\" x=\"682\" y=\"-37.8\" font-family=\"Helvetica,sans-Serif\" font-size=\"14.00\" fill=\"#000000\">samples = 294</text>\n<text text-anchor=\"middle\" x=\"682\" y=\"-22.8\" font-family=\"Helvetica,sans-Serif\" font-size=\"14.00\" fill=\"#000000\">value = [157, 122, 15]</text>\n<text text-anchor=\"middle\" x=\"682\" y=\"-7.8\" font-family=\"Helvetica,sans-Serif\" font-size=\"14.00\" fill=\"#000000\">class = 없음</text>\n</g>\n<!-- 10&#45;&gt;11 -->\n<g id=\"edge11\" class=\"edge\">\n<title>10&#45;&gt;11</title>\n<path fill=\"none\" stroke=\"#000000\" d=\"M766.1669,-88.9777C753.2143,-79.3629 739.1465,-68.9203 726.2867,-59.3743\"/>\n<polygon fill=\"#000000\" stroke=\"#000000\" points=\"728.1499,-56.3986 718.0342,-53.2485 723.9776,-62.0193 728.1499,-56.3986\"/>\n</g>\n<!-- 12 -->\n<g id=\"node13\" class=\"node\">\n<title>12</title>\n<polygon fill=\"#39e581\" stroke=\"#000000\" points=\"893.5,-53 778.5,-53 778.5,0 893.5,0 893.5,-53\"/>\n<text text-anchor=\"middle\" x=\"836\" y=\"-37.8\" font-family=\"Helvetica,sans-Serif\" font-size=\"14.00\" fill=\"#000000\">samples = 4</text>\n<text text-anchor=\"middle\" x=\"836\" y=\"-22.8\" font-family=\"Helvetica,sans-Serif\" font-size=\"14.00\" fill=\"#000000\">value = [0, 4, 0]</text>\n<text text-anchor=\"middle\" x=\"836\" y=\"-7.8\" font-family=\"Helvetica,sans-Serif\" font-size=\"14.00\" fill=\"#000000\">class = 있음</text>\n</g>\n<!-- 10&#45;&gt;12 -->\n<g id=\"edge12\" class=\"edge\">\n<title>10&#45;&gt;12</title>\n<path fill=\"none\" stroke=\"#000000\" d=\"M820.4615,-88.9777C822.5567,-80.5533 824.8099,-71.4934 826.9327,-62.9579\"/>\n<polygon fill=\"#000000\" stroke=\"#000000\" points=\"830.3305,-63.7976 829.3475,-53.2485 823.5374,-62.1081 830.3305,-63.7976\"/>\n</g>\n<!-- 14 -->\n<g id=\"node15\" class=\"node\">\n<title>14</title>\n<polygon fill=\"#eb9c64\" stroke=\"#000000\" points=\"1042.5,-53 911.5,-53 911.5,0 1042.5,0 1042.5,-53\"/>\n<text text-anchor=\"middle\" x=\"977\" y=\"-37.8\" font-family=\"Helvetica,sans-Serif\" font-size=\"14.00\" fill=\"#000000\">samples = 56</text>\n<text text-anchor=\"middle\" x=\"977\" y=\"-22.8\" font-family=\"Helvetica,sans-Serif\" font-size=\"14.00\" fill=\"#000000\">value = [46, 10, 0]</text>\n<text text-anchor=\"middle\" x=\"977\" y=\"-7.8\" font-family=\"Helvetica,sans-Serif\" font-size=\"14.00\" fill=\"#000000\">class = 없음</text>\n</g>\n<!-- 13&#45;&gt;14 -->\n<g id=\"edge14\" class=\"edge\">\n<title>13&#45;&gt;14</title>\n<path fill=\"none\" stroke=\"#000000\" d=\"M992.5385,-88.9777C990.4433,-80.5533 988.1901,-71.4934 986.0673,-62.9579\"/>\n<polygon fill=\"#000000\" stroke=\"#000000\" points=\"989.4626,-62.1081 983.6525,-53.2485 982.6695,-63.7976 989.4626,-62.1081\"/>\n</g>\n<!-- 15 -->\n<g id=\"node16\" class=\"node\">\n<title>15</title>\n<polygon fill=\"#fbebdf\" stroke=\"#000000\" points=\"1191.5,-53 1060.5,-53 1060.5,0 1191.5,0 1191.5,-53\"/>\n<text text-anchor=\"middle\" x=\"1126\" y=\"-37.8\" font-family=\"Helvetica,sans-Serif\" font-size=\"14.00\" fill=\"#000000\">samples = 42</text>\n<text text-anchor=\"middle\" x=\"1126\" y=\"-22.8\" font-family=\"Helvetica,sans-Serif\" font-size=\"14.00\" fill=\"#000000\">value = [21, 17, 4]</text>\n<text text-anchor=\"middle\" x=\"1126\" y=\"-7.8\" font-family=\"Helvetica,sans-Serif\" font-size=\"14.00\" fill=\"#000000\">class = 없음</text>\n</g>\n<!-- 13&#45;&gt;15 -->\n<g id=\"edge15\" class=\"edge\">\n<title>13&#45;&gt;15</title>\n<path fill=\"none\" stroke=\"#000000\" d=\"M1045.0703,-88.9777C1057.5248,-79.3629 1071.0515,-68.9203 1083.4167,-59.3743\"/>\n<polygon fill=\"#000000\" stroke=\"#000000\" points=\"1085.5749,-62.1299 1091.3517,-53.2485 1081.2972,-56.5889 1085.5749,-62.1299\"/>\n</g>\n<!-- 17 -->\n<g id=\"node18\" class=\"node\">\n<title>17</title>\n<polygon fill=\"#97f1bd\" stroke=\"#000000\" points=\"1562,-261 1388,-261 1388,-193 1562,-193 1562,-261\"/>\n<text text-anchor=\"middle\" x=\"1475\" y=\"-245.8\" font-family=\"Helvetica,sans-Serif\" font-size=\"14.00\" fill=\"#000000\">HDL콜레스테롤 &lt;= 297.5</text>\n<text text-anchor=\"middle\" x=\"1475\" y=\"-230.8\" font-family=\"Helvetica,sans-Serif\" font-size=\"14.00\" fill=\"#000000\">samples = 141</text>\n<text text-anchor=\"middle\" x=\"1475\" y=\"-215.8\" font-family=\"Helvetica,sans-Serif\" font-size=\"14.00\" fill=\"#000000\">value = [34, 90, 17]</text>\n<text text-anchor=\"middle\" x=\"1475\" y=\"-200.8\" font-family=\"Helvetica,sans-Serif\" font-size=\"14.00\" fill=\"#000000\">class = 있음</text>\n</g>\n<!-- 16&#45;&gt;17 -->\n<g id=\"edge17\" class=\"edge\">\n<title>16&#45;&gt;17</title>\n<path fill=\"none\" stroke=\"#000000\" d=\"M1475,-296.9465C1475,-288.776 1475,-279.9318 1475,-271.3697\"/>\n<polygon fill=\"#000000\" stroke=\"#000000\" points=\"1478.5001,-271.13 1475,-261.13 1471.5001,-271.13 1478.5001,-271.13\"/>\n</g>\n<!-- 24 -->\n<g id=\"node25\" class=\"node\">\n<title>24</title>\n<polygon fill=\"#43e688\" stroke=\"#000000\" points=\"1823,-261 1651,-261 1651,-193 1823,-193 1823,-261\"/>\n<text text-anchor=\"middle\" x=\"1737\" y=\"-245.8\" font-family=\"Helvetica,sans-Serif\" font-size=\"14.00\" fill=\"#000000\">(혈청지오티)ALT &lt;= 77.0</text>\n<text text-anchor=\"middle\" x=\"1737\" y=\"-230.8\" font-family=\"Helvetica,sans-Serif\" font-size=\"14.00\" fill=\"#000000\">samples = 20</text>\n<text text-anchor=\"middle\" x=\"1737\" y=\"-215.8\" font-family=\"Helvetica,sans-Serif\" font-size=\"14.00\" fill=\"#000000\">value = [0, 19, 1]</text>\n<text text-anchor=\"middle\" x=\"1737\" y=\"-200.8\" font-family=\"Helvetica,sans-Serif\" font-size=\"14.00\" fill=\"#000000\">class = 있음</text>\n</g>\n<!-- 16&#45;&gt;24 -->\n<g id=\"edge24\" class=\"edge\">\n<title>16&#45;&gt;24</title>\n<path fill=\"none\" stroke=\"#000000\" d=\"M1549.0281,-301.6148C1577.8264,-290.1834 1611.1867,-276.9411 1641.7388,-264.8136\"/>\n<polygon fill=\"#000000\" stroke=\"#000000\" points=\"1643.1189,-268.0315 1651.1221,-261.0889 1640.5363,-261.5253 1643.1189,-268.0315\"/>\n</g>\n<!-- 18 -->\n<g id=\"node19\" class=\"node\">\n<title>18</title>\n<polygon fill=\"#8ef0b7\" stroke=\"#000000\" points=\"1475,-157 1335,-157 1335,-89 1475,-89 1475,-157\"/>\n<text text-anchor=\"middle\" x=\"1405\" y=\"-141.8\" font-family=\"Helvetica,sans-Serif\" font-size=\"14.00\" fill=\"#000000\">Sex &lt;= 44.5</text>\n<text text-anchor=\"middle\" x=\"1405\" y=\"-126.8\" font-family=\"Helvetica,sans-Serif\" font-size=\"14.00\" fill=\"#000000\">samples = 132</text>\n<text text-anchor=\"middle\" x=\"1405\" y=\"-111.8\" font-family=\"Helvetica,sans-Serif\" font-size=\"14.00\" fill=\"#000000\">value = [29, 88, 15]</text>\n<text text-anchor=\"middle\" x=\"1405\" y=\"-96.8\" font-family=\"Helvetica,sans-Serif\" font-size=\"14.00\" fill=\"#000000\">class = 있음</text>\n</g>\n<!-- 17&#45;&gt;18 -->\n<g id=\"edge18\" class=\"edge\">\n<title>17&#45;&gt;18</title>\n<path fill=\"none\" stroke=\"#000000\" d=\"M1452.0794,-192.9465C1446.2174,-184.2373 1439.8402,-174.7626 1433.727,-165.6801\"/>\n<polygon fill=\"#000000\" stroke=\"#000000\" points=\"1436.4595,-163.4716 1427.9721,-157.13 1430.6524,-167.3802 1436.4595,-163.4716\"/>\n</g>\n<!-- 21 -->\n<g id=\"node22\" class=\"node\">\n<title>21</title>\n<polygon fill=\"#f4c9aa\" stroke=\"#000000\" points=\"1657,-157 1493,-157 1493,-89 1657,-89 1657,-157\"/>\n<text text-anchor=\"middle\" x=\"1575\" y=\"-141.8\" font-family=\"Helvetica,sans-Serif\" font-size=\"14.00\" fill=\"#000000\">LDL콜레스테롤 &lt;= 42.5</text>\n<text text-anchor=\"middle\" x=\"1575\" y=\"-126.8\" font-family=\"Helvetica,sans-Serif\" font-size=\"14.00\" fill=\"#000000\">samples = 9</text>\n<text text-anchor=\"middle\" x=\"1575\" y=\"-111.8\" font-family=\"Helvetica,sans-Serif\" font-size=\"14.00\" fill=\"#000000\">value = [5, 2, 2]</text>\n<text text-anchor=\"middle\" x=\"1575\" y=\"-96.8\" font-family=\"Helvetica,sans-Serif\" font-size=\"14.00\" fill=\"#000000\">class = 없음</text>\n</g>\n<!-- 17&#45;&gt;21 -->\n<g id=\"edge21\" class=\"edge\">\n<title>17&#45;&gt;21</title>\n<path fill=\"none\" stroke=\"#000000\" d=\"M1507.7437,-192.9465C1516.4633,-183.8782 1525.9809,-173.9799 1535.0399,-164.5585\"/>\n<polygon fill=\"#000000\" stroke=\"#000000\" points=\"1537.7745,-166.7642 1542.1827,-157.13 1532.7287,-161.9125 1537.7745,-166.7642\"/>\n</g>\n<!-- 19 -->\n<g id=\"node20\" class=\"node\">\n<title>19</title>\n<polygon fill=\"#81eeaf\" stroke=\"#000000\" points=\"1350,-53 1210,-53 1210,0 1350,0 1350,-53\"/>\n<text text-anchor=\"middle\" x=\"1280\" y=\"-37.8\" font-family=\"Helvetica,sans-Serif\" font-size=\"14.00\" fill=\"#000000\">samples = 107</text>\n<text text-anchor=\"middle\" x=\"1280\" y=\"-22.8\" font-family=\"Helvetica,sans-Serif\" font-size=\"14.00\" fill=\"#000000\">value = [19, 75, 13]</text>\n<text text-anchor=\"middle\" x=\"1280\" y=\"-7.8\" font-family=\"Helvetica,sans-Serif\" font-size=\"14.00\" fill=\"#000000\">class = 있음</text>\n</g>\n<!-- 18&#45;&gt;19 -->\n<g id=\"edge19\" class=\"edge\">\n<title>18&#45;&gt;19</title>\n<path fill=\"none\" stroke=\"#000000\" d=\"M1360.9297,-88.9777C1348.4752,-79.3629 1334.9485,-68.9203 1322.5833,-59.3743\"/>\n<polygon fill=\"#000000\" stroke=\"#000000\" points=\"1324.7028,-56.5889 1314.6483,-53.2485 1320.4251,-62.1299 1324.7028,-56.5889\"/>\n</g>\n<!-- 20 -->\n<g id=\"node21\" class=\"node\">\n<title>20</title>\n<polygon fill=\"#d7fae6\" stroke=\"#000000\" points=\"1499.5,-53 1368.5,-53 1368.5,0 1499.5,0 1499.5,-53\"/>\n<text text-anchor=\"middle\" x=\"1434\" y=\"-37.8\" font-family=\"Helvetica,sans-Serif\" font-size=\"14.00\" fill=\"#000000\">samples = 25</text>\n<text text-anchor=\"middle\" x=\"1434\" y=\"-22.8\" font-family=\"Helvetica,sans-Serif\" font-size=\"14.00\" fill=\"#000000\">value = [10, 13, 2]</text>\n<text text-anchor=\"middle\" x=\"1434\" y=\"-7.8\" font-family=\"Helvetica,sans-Serif\" font-size=\"14.00\" fill=\"#000000\">class = 있음</text>\n</g>\n<!-- 18&#45;&gt;20 -->\n<g id=\"edge20\" class=\"edge\">\n<title>18&#45;&gt;20</title>\n<path fill=\"none\" stroke=\"#000000\" d=\"M1415.2243,-88.9777C1417.756,-80.5533 1420.4787,-71.4934 1423.0437,-62.9579\"/>\n<polygon fill=\"#000000\" stroke=\"#000000\" points=\"1426.4354,-63.8327 1425.9616,-53.2485 1419.7316,-61.818 1426.4354,-63.8327\"/>\n</g>\n<!-- 22 -->\n<g id=\"node23\" class=\"node\">\n<title>22</title>\n<polygon fill=\"#39e581\" stroke=\"#000000\" points=\"1632.5,-53 1517.5,-53 1517.5,0 1632.5,0 1632.5,-53\"/>\n<text text-anchor=\"middle\" x=\"1575\" y=\"-37.8\" font-family=\"Helvetica,sans-Serif\" font-size=\"14.00\" fill=\"#000000\">samples = 2</text>\n<text text-anchor=\"middle\" x=\"1575\" y=\"-22.8\" font-family=\"Helvetica,sans-Serif\" font-size=\"14.00\" fill=\"#000000\">value = [0, 2, 0]</text>\n<text text-anchor=\"middle\" x=\"1575\" y=\"-7.8\" font-family=\"Helvetica,sans-Serif\" font-size=\"14.00\" fill=\"#000000\">class = 있음</text>\n</g>\n<!-- 21&#45;&gt;22 -->\n<g id=\"edge22\" class=\"edge\">\n<title>21&#45;&gt;22</title>\n<path fill=\"none\" stroke=\"#000000\" d=\"M1575,-88.9777C1575,-80.7364 1575,-71.887 1575,-63.5153\"/>\n<polygon fill=\"#000000\" stroke=\"#000000\" points=\"1578.5001,-63.2484 1575,-53.2485 1571.5001,-63.2485 1578.5001,-63.2484\"/>\n</g>\n<!-- 23 -->\n<g id=\"node24\" class=\"node\">\n<title>23</title>\n<polygon fill=\"#efb388\" stroke=\"#000000\" points=\"1765.5,-53 1650.5,-53 1650.5,0 1765.5,0 1765.5,-53\"/>\n<text text-anchor=\"middle\" x=\"1708\" y=\"-37.8\" font-family=\"Helvetica,sans-Serif\" font-size=\"14.00\" fill=\"#000000\">samples = 7</text>\n<text text-anchor=\"middle\" x=\"1708\" y=\"-22.8\" font-family=\"Helvetica,sans-Serif\" font-size=\"14.00\" fill=\"#000000\">value = [5, 0, 2]</text>\n<text text-anchor=\"middle\" x=\"1708\" y=\"-7.8\" font-family=\"Helvetica,sans-Serif\" font-size=\"14.00\" fill=\"#000000\">class = 없음</text>\n</g>\n<!-- 21&#45;&gt;23 -->\n<g id=\"edge23\" class=\"edge\">\n<title>21&#45;&gt;23</title>\n<path fill=\"none\" stroke=\"#000000\" d=\"M1621.8908,-88.9777C1635.1423,-79.3629 1649.5347,-68.9203 1662.6913,-59.3743\"/>\n<polygon fill=\"#000000\" stroke=\"#000000\" points=\"1665.0957,-61.9541 1671.1342,-53.2485 1660.9848,-56.2883 1665.0957,-61.9541\"/>\n</g>\n<!-- 25 -->\n<g id=\"node26\" class=\"node\">\n<title>25</title>\n<polygon fill=\"#39e581\" stroke=\"#000000\" points=\"1798.5,-149.5 1675.5,-149.5 1675.5,-96.5 1798.5,-96.5 1798.5,-149.5\"/>\n<text text-anchor=\"middle\" x=\"1737\" y=\"-134.3\" font-family=\"Helvetica,sans-Serif\" font-size=\"14.00\" fill=\"#000000\">samples = 19</text>\n<text text-anchor=\"middle\" x=\"1737\" y=\"-119.3\" font-family=\"Helvetica,sans-Serif\" font-size=\"14.00\" fill=\"#000000\">value = [0, 19, 0]</text>\n<text text-anchor=\"middle\" x=\"1737\" y=\"-104.3\" font-family=\"Helvetica,sans-Serif\" font-size=\"14.00\" fill=\"#000000\">class = 있음</text>\n</g>\n<!-- 24&#45;&gt;25 -->\n<g id=\"edge25\" class=\"edge\">\n<title>24&#45;&gt;25</title>\n<path fill=\"none\" stroke=\"#000000\" d=\"M1737,-192.9465C1737,-182.2621 1737,-170.4254 1737,-159.5742\"/>\n<polygon fill=\"#000000\" stroke=\"#000000\" points=\"1740.5001,-159.5421 1737,-149.5422 1733.5001,-159.5422 1740.5001,-159.5421\"/>\n</g>\n<!-- 26 -->\n<g id=\"node27\" class=\"node\">\n<title>26</title>\n<polygon fill=\"#8139e5\" stroke=\"#000000\" points=\"1937,-149.5 1817,-149.5 1817,-96.5 1937,-96.5 1937,-149.5\"/>\n<text text-anchor=\"middle\" x=\"1877\" y=\"-134.3\" font-family=\"Helvetica,sans-Serif\" font-size=\"14.00\" fill=\"#000000\">samples = 1</text>\n<text text-anchor=\"middle\" x=\"1877\" y=\"-119.3\" font-family=\"Helvetica,sans-Serif\" font-size=\"14.00\" fill=\"#000000\">value = [0, 0, 1]</text>\n<text text-anchor=\"middle\" x=\"1877\" y=\"-104.3\" font-family=\"Helvetica,sans-Serif\" font-size=\"14.00\" fill=\"#000000\">class = 측정불가</text>\n</g>\n<!-- 24&#45;&gt;26 -->\n<g id=\"edge26\" class=\"edge\">\n<title>24&#45;&gt;26</title>\n<path fill=\"none\" stroke=\"#000000\" d=\"M1782.8412,-192.9465C1799.0035,-180.9403 1817.1242,-167.4791 1833.1205,-155.5962\"/>\n<polygon fill=\"#000000\" stroke=\"#000000\" points=\"1835.3299,-158.3151 1841.2702,-149.5422 1831.1556,-152.6958 1835.3299,-158.3151\"/>\n</g>\n</g>\n</svg>\n"
          },
          "metadata": {}
        }
      ]
    },
    {
      "cell_type": "code",
      "source": [
        "from sklearn.ensemble import RandomForestClassifier\n",
        "\n",
        "forest = RandomForestClassifier(n_estimators=5, random_state=2)\n",
        "forest.fit(X_train.iloc[:, 0:2], y_train) \n",
        "fig, axes = plt.subplots(2, 3, figsize=(20, 10))\n",
        "for i, (ax, tree) in enumerate(zip(axes.ravel(), forest.estimators_)):\n",
        "    ax.set_title(\"Tree {}\".format(i))\n",
        "    mglearn.plots.plot_tree_partition(X.iloc[:, 0:2].values, y, tree, ax=ax)\n",
        "    \n",
        "mglearn.plots.plot_2d_separator(forest, X.iloc[:, 0:2].values, fill=True, ax=axes[-1, -1], alpha=.4)\n",
        "axes[-1, -1].set_title(\"Random forest\")\n",
        "mglearn.discrete_scatter(X.iloc[:, 0], X.iloc[:, 1], y)\n",
        "plt.show()"
      ],
      "metadata": {
        "colab": {
          "base_uri": "https://localhost:8080/",
          "height": 631
        },
        "id": "xCI3jRZ37m3b",
        "outputId": "346e5bfd-e140-4afc-f0ed-8655bb6e6d38"
      },
      "execution_count": null,
      "outputs": [
        {
          "output_type": "stream",
          "name": "stderr",
          "text": [
            "/usr/local/lib/python3.7/dist-packages/sklearn/base.py:451: UserWarning: X does not have valid feature names, but RandomForestClassifier was fitted with feature names\n",
            "  \"X does not have valid feature names, but\"\n"
          ]
        },
        {
          "output_type": "display_data",
          "data": {
            "text/plain": [
              "<Figure size 1440x720 with 6 Axes>"
            ],
            "image/png": "[encoded data removed]"
          },
          "metadata": {}
        }
      ]
    },
    {
      "cell_type": "code",
      "source": [
        "forest = RandomForestClassifier(n_estimators=100, random_state=0)\n",
        "forest.fit(X_train, y_train)\n",
        "\n",
        "print(\"학습용 데이터 세트 정확도: {:.3f}\".format(forest.score(X_train, y_train)))\n",
        "print(\"시험용 데이터 세트 정확도: {:.3f}\".format(forest.score(X_test, y_test)))"
      ],
      "metadata": {
        "colab": {
          "base_uri": "https://localhost:8080/"
        },
        "id": "Bd9nmNtQ9V03",
        "outputId": "87385c36-d6e1-4519-c95b-da99d45d5c1e"
      },
      "execution_count": null,
      "outputs": [
        {
          "output_type": "stream",
          "name": "stdout",
          "text": [
            "학습용 데이터 세트 정확도: 1.000\n",
            "시험용 데이터 세트 정확도: 0.473\n"
          ]
        }
      ]
    },
    {
      "cell_type": "code",
      "source": [
        "forest = RandomForestClassifier(n_estimators=100, random_state=0)\n",
        "forest.fit(X_train, y_train)\n",
        "\n",
        "print(\"학습용 데이터 세트 정확도: {:.6f}\".format(forest.score(X_train, y_train)))\n",
        "print(\"시험용 데이터 세트 정확도: {:.6f}\".format(forest.score(X_test, y_test)))"
      ],
      "metadata": {
        "colab": {
          "base_uri": "https://localhost:8080/"
        },
        "id": "PvlrFV2L9rFu",
        "outputId": "c0818a85-5d3b-4761-e0e3-f156f5104961"
      },
      "execution_count": null,
      "outputs": [
        {
          "output_type": "stream",
          "name": "stdout",
          "text": [
            "학습용 데이터 세트 정확도: 1.000000\n",
            "시험용 데이터 세트 정확도: 0.472843\n"
          ]
        }
      ]
    },
    {
      "cell_type": "markdown",
      "source": [
        " **교차검증**"
      ],
      "metadata": {
        "id": "F6eTFiklHpnU"
      }
    },
    {
      "cell_type": "code",
      "source": [
        "from sklearn.model_selection import cross_val_score\n",
        "\n",
        "# 교차 검증을 10번 수행하여 10번의 교차 검증 평균 정확도를 비교 (10-fold cross validation)\n",
        "# default cv=5\n",
        "\n",
        "dt_scores = cross_val_score(tree, X_train, y_train, cv=10, scoring='accuracy')  \n",
        "rf_scores = cross_val_score(forest, X_train, y_train, cv=10, scoring='accuracy')\n",
        "\n",
        "print(\"Accuracy\")\n",
        "print(\"Decision tree: \", dt_scores) \n",
        "print(\"Random forest: \", rf_scores) \n",
        "\n",
        "print(\"Accuracy mean\")\n",
        "print(\"Decision tree :{:.3f}\".format(dt_scores.mean())) \n",
        "print(\"Random forest :{:.3f}\".format(rf_scores.mean())) "
      ],
      "metadata": {
        "colab": {
          "base_uri": "https://localhost:8080/"
        },
        "id": "nWuD00FlEpHi",
        "outputId": "184ab1d0-d16c-43a9-e7c5-c55b33352f99"
      },
      "execution_count": null,
      "outputs": [
        {
          "output_type": "stream",
          "name": "stdout",
          "text": [
            "Accuracy\n",
            "Decision tree:  [0.55319149 0.41489362 0.46808511 0.45744681 0.46808511 0.42553191\n",
            " 0.49462366 0.49462366 0.5483871  0.41935484]\n",
            "Random forest:  [0.4893617  0.44680851 0.60638298 0.61702128 0.56382979 0.4787234\n",
            " 0.56989247 0.49462366 0.51612903 0.44086022]\n",
            "Accuracy mean\n",
            "Decision tree :0.474\n",
            "Random forest :0.522\n"
          ]
        }
      ]
    },
    {
      "cell_type": "markdown",
      "source": [
        "**결과?**\n",
        "\n",
        "의사결정나무와 교차 검증을 수행한 랜덤포레스트 정확도를 비교해본 결과 0.05정도의 차이로 랜덤 포레스트의 정확률이 더 높은 것을 확인할 수 있다. "
      ],
      "metadata": {
        "id": "97rUnlNVEtZt"
      }
    },
    {
      "cell_type": "code",
      "source": [
        "cv_list = [    \n",
        "            ['decision_tree',dt_scores],\n",
        "            ['random_forest',rf_scores],\n",
        "          ]\n",
        "df = pd.DataFrame.from_dict(dict(cv_list))\n",
        "df.plot()"
      ],
      "metadata": {
        "colab": {
          "base_uri": "https://localhost:8080/",
          "height": 286
        },
        "id": "0gi6TTZQE-Rl",
        "outputId": "a5e32727-2889-48ea-e5f9-aa3c2988caa0"
      },
      "execution_count": null,
      "outputs": [
        {
          "output_type": "execute_result",
          "data": {
            "text/plain": [
              "<matplotlib.axes._subplots.AxesSubplot at 0x7fe21fc1ef10>"
            ]
          },
          "metadata": {},
          "execution_count": 56
        },
        {
          "output_type": "display_data",
          "data": {
            "text/plain": [
              "<Figure size 432x288 with 1 Axes>"
            ],
            "image/png": "[encoded data removed]"
          },
          "metadata": {
            "needs_background": "light"
          }
        }
      ]
    },
    {
      "cell_type": "markdown",
      "source": [
        "**최종 결과?**\n",
        "\n",
        "랜덤 포레스트의 경우 0.45가 최하치의 정확률이고 0.625가 최고점일정도로 의사결정나무보다 오히려 좋은 결과값을 냄을 확인할 수 있다. \n",
        "\n",
        "치석은 나이와 식전혈당에 영향을 유의미하게 미칠 것이라고 판단한 가설과는 달리 연관성은 높지 않은 것으로 해석해볼 수 있다. "
      ],
      "metadata": {
        "id": "_XwsMCpsFFOZ"
      }
    }
  ]
}